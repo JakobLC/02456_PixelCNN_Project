{
 "cells": [
  {
   "cell_type": "code",
   "execution_count": 3,
   "metadata": {
    "id": "Poex8g5-n7BJ"
   },
   "outputs": [
    {
     "ename": "ModuleNotFoundError",
     "evalue": "No module named 'torch'",
     "output_type": "error",
     "traceback": [
      "\u001b[1;31m---------------------------------------------------------------------------\u001b[0m",
      "\u001b[1;31mModuleNotFoundError\u001b[0m                       Traceback (most recent call last)",
      "\u001b[1;32m<ipython-input-3-92ef2e3bd31a>\u001b[0m in \u001b[0;36m<module>\u001b[1;34m\u001b[0m\n\u001b[0;32m      5\u001b[0m \u001b[1;32mimport\u001b[0m \u001b[0mmatplotlib\u001b[0m\u001b[1;33m.\u001b[0m\u001b[0mpyplot\u001b[0m \u001b[1;32mas\u001b[0m \u001b[0mplt\u001b[0m\u001b[1;33m\u001b[0m\u001b[1;33m\u001b[0m\u001b[0m\n\u001b[0;32m      6\u001b[0m \u001b[1;32mimport\u001b[0m \u001b[0mnumpy\u001b[0m \u001b[1;32mas\u001b[0m \u001b[0mnp\u001b[0m\u001b[1;33m\u001b[0m\u001b[1;33m\u001b[0m\u001b[0m\n\u001b[1;32m----> 7\u001b[1;33m \u001b[1;32mimport\u001b[0m \u001b[0mtorch\u001b[0m\u001b[1;33m\u001b[0m\u001b[1;33m\u001b[0m\u001b[0m\n\u001b[0m\u001b[0;32m      8\u001b[0m \u001b[1;32mimport\u001b[0m \u001b[0mtorch\u001b[0m\u001b[1;33m.\u001b[0m\u001b[0mnn\u001b[0m\u001b[1;33m.\u001b[0m\u001b[0mfunctional\u001b[0m \u001b[1;32mas\u001b[0m \u001b[0mF\u001b[0m\u001b[1;33m\u001b[0m\u001b[1;33m\u001b[0m\u001b[0m\n\u001b[0;32m      9\u001b[0m \u001b[1;32mfrom\u001b[0m \u001b[0mtorch\u001b[0m \u001b[1;32mimport\u001b[0m \u001b[0mnn\u001b[0m\u001b[1;33m,\u001b[0m \u001b[0moptim\u001b[0m\u001b[1;33m,\u001b[0m \u001b[0mcuda\u001b[0m\u001b[1;33m,\u001b[0m \u001b[0mbackends\u001b[0m\u001b[1;33m\u001b[0m\u001b[1;33m\u001b[0m\u001b[0m\n",
      "\u001b[1;31mModuleNotFoundError\u001b[0m: No module named 'torch'"
     ]
    }
   ],
   "source": [
    "#Load dependencies\n",
    "\n",
    "import os\n",
    "import sys\n",
    "import matplotlib.pyplot as plt\n",
    "import numpy as np\n",
    "import torch\n",
    "import torch.nn.functional as F\n",
    "from torch import nn, optim, cuda, backends\n",
    "from torch.autograd import Variable\n",
    "from torch.utils import data\n",
    "from torchvision import datasets, transforms, utils\n",
    "from pixel_functions import *"
   ]
  },
  {
   "cell_type": "code",
   "execution_count": 2,
   "metadata": {
    "id": "bwuqg_D-n7BQ"
   },
   "outputs": [
    {
     "ename": "NameError",
     "evalue": "name 'transforms' is not defined",
     "output_type": "error",
     "traceback": [
      "\u001b[1;31m---------------------------------------------------------------------------\u001b[0m",
      "\u001b[1;31mNameError\u001b[0m                                 Traceback (most recent call last)",
      "\u001b[1;32m<ipython-input-2-904d1bb220b0>\u001b[0m in \u001b[0;36m<module>\u001b[1;34m\u001b[0m\n\u001b[0;32m      1\u001b[0m \u001b[1;31m#Load datasets (MNIST)\u001b[0m\u001b[1;33m\u001b[0m\u001b[1;33m\u001b[0m\u001b[1;33m\u001b[0m\u001b[0m\n\u001b[0;32m      2\u001b[0m \u001b[1;33m\u001b[0m\u001b[0m\n\u001b[1;32m----> 3\u001b[1;33m \u001b[0mtrans\u001b[0m \u001b[1;33m=\u001b[0m \u001b[0mtransforms\u001b[0m\u001b[1;33m.\u001b[0m\u001b[0mCompose\u001b[0m\u001b[1;33m(\u001b[0m\u001b[1;33m[\u001b[0m\u001b[0mtransforms\u001b[0m\u001b[1;33m.\u001b[0m\u001b[0mToTensor\u001b[0m\u001b[1;33m(\u001b[0m\u001b[1;33m)\u001b[0m\u001b[1;33m,\u001b[0m \u001b[0mDynamicBinarization\u001b[0m\u001b[1;33m(\u001b[0m\u001b[1;33m)\u001b[0m\u001b[1;33m]\u001b[0m\u001b[1;33m)\u001b[0m\u001b[1;33m\u001b[0m\u001b[1;33m\u001b[0m\u001b[0m\n\u001b[0m\u001b[0;32m      4\u001b[0m \u001b[1;33m\u001b[0m\u001b[0m\n\u001b[0;32m      5\u001b[0m tr_bin = data.DataLoader(datasets.MNIST('../data', train=True, download=True, transform=trans),\n",
      "\u001b[1;31mNameError\u001b[0m: name 'transforms' is not defined"
     ]
    }
   ],
   "source": [
    "#Load datasets (MNIST)\n",
    "\n",
    "trans = transforms.Compose([transforms.ToTensor(), DynamicBinarization()])\n",
    "\n",
    "tr_bin = data.DataLoader(datasets.MNIST('../data', train=True, download=True, transform=trans),\n",
    "                     batch_size=128, shuffle=True, num_workers=0, pin_memory=True)\n",
    "te_bin = data.DataLoader(datasets.MNIST('../data', train=False, download=True, transform=trans),\n",
    "                     batch_size=128, shuffle=False, num_workers=0, pin_memory=True)\n",
    "tr_256 = data.DataLoader(datasets.MNIST('../data', train=True, download=True, transform=transforms.ToTensor()),\n",
    "                     batch_size=128, shuffle=True, num_workers=0, pin_memory=True)\n",
    "te_256 = data.DataLoader(datasets.MNIST('../data', train=False, download=True, transform=transforms.ToTensor()),\n",
    "                     batch_size=128, shuffle=False, num_workers=0, pin_memory=True)"
   ]
  },
  {
   "cell_type": "code",
   "execution_count": null,
   "metadata": {
    "id": "xA2x84kOn7BS"
   },
   "outputs": [],
   "source": [
    "#Define models and load pytorch state dicts\n",
    "\n",
    "net_pixel_bin  = PixelCNN(num_filters=64, color_levels=1)\n",
    "net_pixel_bin.cuda()\n",
    "checkpoint = torch.load(\"State_dicts_and_functions/Standard_Binary_e25.pth\")\n",
    "net_pixel_bin.load_state_dict(checkpoint)\n",
    "\n",
    "net_pixel_256 = PixelCNN(num_filters=64, color_levels=256)\n",
    "net_pixel_256.cuda()\n",
    "checkpoint = torch.load(\"State_dicts_and_functions/Standard_256_e49.pth\")\n",
    "net_pixel_256.load_state_dict(checkpoint)\n",
    "\n",
    "net_gated_bin = GatedPixelCNN(hidden_fmaps=64, causal_ksize=7, hidden_ksize=3, num_layers=12, \n",
    "                    out_hidden_fmaps=256, color_levels=1)\n",
    "net_gated_bin.cuda()\n",
    "checkpoint = torch.load('State_dicts_and_functions/Gated_Binary_e50.pth')\n",
    "net_gated_bin.load_state_dict(checkpoint)\n",
    "\n",
    "net_gated_256 = GatedPixelCNN(hidden_fmaps=64, causal_ksize=7, hidden_ksize=3, num_layers=12, \n",
    "                    out_hidden_fmaps=256, color_levels=256)\n",
    "net_gated_256.cuda()\n",
    "checkpoint = torch.load('State_dicts_and_functions/Gated_256_e50.pth')\n",
    "net_gated_256.load_state_dict(checkpoint)\n",
    "\n",
    "net_space_256 = GatedPixelCNN_space(hidden_fmaps=64, causal_ksize=7, hidden_ksize=3, num_layers=12, \n",
    "                    out_hidden_fmaps=256, color_levels=256)\n",
    "net_space_256.cuda()\n",
    "checkpoint = torch.load('State_dicts_and_functions/Spacial_Gated_256_e60.pth')\n",
    "net_space_256.load_state_dict(checkpoint)\n",
    "\n",
    "net_space_bin = GatedPixelCNN_space(hidden_fmaps=64, causal_ksize=7, hidden_ksize=3, num_layers=12, \n",
    "                    out_hidden_fmaps=256, color_levels=1)\n",
    "net_space_bin.cuda()\n",
    "checkpoint = torch.load('State_dicts_and_functions/Spacial_Gated_Binary_e30.pth')\n",
    "net_space_bin.load_state_dict(checkpoint)\n"
   ]
  },
  {
   "cell_type": "code",
   "execution_count": null,
   "metadata": {
    "id": "CSVZVkZNn7BW"
   },
   "outputs": [],
   "source": [
    "# Generate a (ns x ns) grid of samples ~5 min\n",
    "\n",
    "ns = 8\n",
    "s_pixel_bin = sample_images(net_pixel_bin,num_colors=1,num_samples=ns,label_bool=False)\n",
    "s_pixel_256 = sample_images(net_pixel_256,num_colors=256,num_samples=ns,label_bool=False)\n",
    "s_gated_bin = sample_images(net_gated_bin,num_colors=1,num_samples=ns,label_bool=True)\n",
    "s_gated_256 = sample_images(net_gated_256,num_colors=256,num_samples=ns,label_bool=True)\n",
    "s_space_bin = sample_images(net_space_bin,num_colors=1,num_samples=ns,label_bool=True)\n",
    "s_space_256 = sample_images(net_space_256,num_colors=256,num_samples=ns,label_bool=True)\n",
    "\n",
    "utils.save_image(s_pixel_bin, 'pixel_bin.png', nrow=8, padding=0)\n",
    "utils.save_image(s_pixel_256, 'pixel_256.png', nrow=8, padding=0)\n",
    "utils.save_image(s_gated_bin, 'gated_bin.png', nrow=8, padding=0)\n",
    "utils.save_image(s_gated_256, 'gated_256.png', nrow=8, padding=0)\n",
    "utils.save_image(s_space_bin, 'space_bin.png', nrow=8, padding=0)\n",
    "utils.save_image(s_space_256, 'space_256.png', nrow=8, padding=0)"
   ]
  },
  {
   "cell_type": "code",
   "execution_count": 11,
   "metadata": {
    "id": "3gGUYR0nn7BX"
   },
   "outputs": [],
   "source": [
    "#Get data for half images\n",
    "\n",
    "input, labels = next(iter(te_256))\n",
    "label = Variable(labels.cuda().long())[[[torch.where(labels==i)[0][0] for i in range(10)]]]\n",
    "label = torch.repeat_interleave(label, 10, dim=0)\n",
    "input_bin = Variable(Binarize(input.cuda()))[[[torch.where(labels==i)[0][0] for i in range(10)]]]\n",
    "input = Variable(input.cuda())[[[torch.where(labels==i)[0][0] for i in range(10)]]]\n",
    "input = torch.repeat_interleave(input, 10, dim=0)\n",
    "input_bin = torch.repeat_interleave(input_bin, 10, dim=0)"
   ]
  },
  {
   "cell_type": "code",
   "execution_count": 12,
   "metadata": {
    "id": "8DBdfE95n7BY"
   },
   "outputs": [],
   "source": [
    "#Finish half images for all models (10 times for each model and each digit) ~5 min\n",
    "\n",
    "utils.save_image(input_bin, 'Half_images_GT_bin.png', nrow=10, padding=0)\n",
    "utils.save_image(input, 'Half_images_GT.png', nrow=10, padding=0)\n",
    "\n",
    "sample_pixel_bin = plot_half_boys(net = net_pixel_bin,input=input_bin,num_colors=1,label = None)\n",
    "utils.save_image(sample_pixel_bin, 'Half_images_pixel_bin_1.png', nrow=10, padding=0)\n",
    "sample_pixel_256 = plot_half_boys(net = net_pixel_256,input=input,num_colors=256,label = None)\n",
    "utils.save_image(sample_pixel_256, 'Half_images_pixel_256_1.png', nrow=10, padding=0)\n",
    "\n",
    "sample_gated_bin = plot_half_boys(net = net_gated_bin,input=input_bin,num_colors=1,label = label)\n",
    "utils.save_image(sample_gated_bin, 'Half_images_gated_bin_1.png', nrow=10, padding=0)\n",
    "sample_gated_256 = plot_half_boys(net = net_gated_256,input=input,num_colors=256,label = label)\n",
    "utils.save_image(sample_gated_256, 'Half_images_gated_256_1.png', nrow=10, padding=0)\n",
    "\n",
    "sample_space_bin = plot_half_boys(net = net_space_bin,input=input_bin,num_colors=1,label = label)\n",
    "utils.save_image(sample_space_bin, 'Half_images_space_bin_1.png', nrow=10, padding=0)\n",
    "sample_space_256 = plot_half_boys(net = net_space_256,input=input,num_colors=256,label = label)\n",
    "utils.save_image(sample_space_256, 'Half_images_space_256_1.png', nrow=10, padding=0)"
   ]
  }
 ],
 "metadata": {
  "accelerator": "GPU",
  "colab": {
   "name": "Test_all_nets.ipynb",
   "provenance": []
  },
  "kernelspec": {
   "display_name": "Python 3",
   "language": "python",
   "name": "python3"
  },
  "language_info": {
   "codemirror_mode": {
    "name": "ipython",
    "version": 3
   },
   "file_extension": ".py",
   "mimetype": "text/x-python",
   "name": "python",
   "nbconvert_exporter": "python",
   "pygments_lexer": "ipython3",
   "version": "3.8.5"
  }
 },
 "nbformat": 4,
 "nbformat_minor": 1
}
