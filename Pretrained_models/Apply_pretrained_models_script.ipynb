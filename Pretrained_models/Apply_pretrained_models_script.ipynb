{
  "nbformat": 4,
  "nbformat_minor": 0,
  "metadata": {
    "kernelspec": {
      "display_name": "Python 3",
      "language": "python",
      "name": "python3"
    },
    "language_info": {
      "codemirror_mode": {
        "name": "ipython",
        "version": 3
      },
      "file_extension": ".py",
      "mimetype": "text/x-python",
      "name": "python",
      "nbconvert_exporter": "python",
      "pygments_lexer": "ipython3",
      "version": "3.8.5"
    },
    "colab": {
      "name": "Test_all_nets.ipynb",
      "provenance": [],
      "collapsed_sections": [],
      "toc_visible": true
    },
    "accelerator": "GPU",
    "widgets": {
      "application/vnd.jupyter.widget-state+json": {
        "308e69b2a22c42b3a7eb2fddf5da7080": {
          "model_module": "@jupyter-widgets/controls",
          "model_name": "HBoxModel",
          "state": {
            "_view_name": "HBoxView",
            "_dom_classes": [],
            "_model_name": "HBoxModel",
            "_view_module": "@jupyter-widgets/controls",
            "_model_module_version": "1.5.0",
            "_view_count": null,
            "_view_module_version": "1.5.0",
            "box_style": "",
            "layout": "IPY_MODEL_aa7694d012e64e799c8b3964c6ca20c8",
            "_model_module": "@jupyter-widgets/controls",
            "children": [
              "IPY_MODEL_034511abb3a244b7aba2d4ffb484a557",
              "IPY_MODEL_a4d2b4c853304bac9878ce2926f6cf34"
            ]
          }
        },
        "aa7694d012e64e799c8b3964c6ca20c8": {
          "model_module": "@jupyter-widgets/base",
          "model_name": "LayoutModel",
          "state": {
            "_view_name": "LayoutView",
            "grid_template_rows": null,
            "right": null,
            "justify_content": null,
            "_view_module": "@jupyter-widgets/base",
            "overflow": null,
            "_model_module_version": "1.2.0",
            "_view_count": null,
            "flex_flow": null,
            "width": null,
            "min_width": null,
            "border": null,
            "align_items": null,
            "bottom": null,
            "_model_module": "@jupyter-widgets/base",
            "top": null,
            "grid_column": null,
            "overflow_y": null,
            "overflow_x": null,
            "grid_auto_flow": null,
            "grid_area": null,
            "grid_template_columns": null,
            "flex": null,
            "_model_name": "LayoutModel",
            "justify_items": null,
            "grid_row": null,
            "max_height": null,
            "align_content": null,
            "visibility": null,
            "align_self": null,
            "height": null,
            "min_height": null,
            "padding": null,
            "grid_auto_rows": null,
            "grid_gap": null,
            "max_width": null,
            "order": null,
            "_view_module_version": "1.2.0",
            "grid_template_areas": null,
            "object_position": null,
            "object_fit": null,
            "grid_auto_columns": null,
            "margin": null,
            "display": null,
            "left": null
          }
        },
        "034511abb3a244b7aba2d4ffb484a557": {
          "model_module": "@jupyter-widgets/controls",
          "model_name": "FloatProgressModel",
          "state": {
            "_view_name": "ProgressView",
            "style": "IPY_MODEL_031ab91b5c0a48529edf1d6e3bb3fa3c",
            "_dom_classes": [],
            "description": "",
            "_model_name": "FloatProgressModel",
            "bar_style": "info",
            "max": 1,
            "_view_module": "@jupyter-widgets/controls",
            "_model_module_version": "1.5.0",
            "value": 1,
            "_view_count": null,
            "_view_module_version": "1.5.0",
            "orientation": "horizontal",
            "min": 0,
            "description_tooltip": null,
            "_model_module": "@jupyter-widgets/controls",
            "layout": "IPY_MODEL_dfd2c64f0b9d430f9e33eddb06d2212e"
          }
        },
        "a4d2b4c853304bac9878ce2926f6cf34": {
          "model_module": "@jupyter-widgets/controls",
          "model_name": "HTMLModel",
          "state": {
            "_view_name": "HTMLView",
            "style": "IPY_MODEL_78c8c1dd13fd455588fb9bb11c7e95cb",
            "_dom_classes": [],
            "description": "",
            "_model_name": "HTMLModel",
            "placeholder": "​",
            "_view_module": "@jupyter-widgets/controls",
            "_model_module_version": "1.5.0",
            "value": " 9920512/? [00:20&lt;00:00, 21899154.25it/s]",
            "_view_count": null,
            "_view_module_version": "1.5.0",
            "description_tooltip": null,
            "_model_module": "@jupyter-widgets/controls",
            "layout": "IPY_MODEL_e34ce9e4602542b79070117f9bbf5b7e"
          }
        },
        "031ab91b5c0a48529edf1d6e3bb3fa3c": {
          "model_module": "@jupyter-widgets/controls",
          "model_name": "ProgressStyleModel",
          "state": {
            "_view_name": "StyleView",
            "_model_name": "ProgressStyleModel",
            "description_width": "initial",
            "_view_module": "@jupyter-widgets/base",
            "_model_module_version": "1.5.0",
            "_view_count": null,
            "_view_module_version": "1.2.0",
            "bar_color": null,
            "_model_module": "@jupyter-widgets/controls"
          }
        },
        "dfd2c64f0b9d430f9e33eddb06d2212e": {
          "model_module": "@jupyter-widgets/base",
          "model_name": "LayoutModel",
          "state": {
            "_view_name": "LayoutView",
            "grid_template_rows": null,
            "right": null,
            "justify_content": null,
            "_view_module": "@jupyter-widgets/base",
            "overflow": null,
            "_model_module_version": "1.2.0",
            "_view_count": null,
            "flex_flow": null,
            "width": null,
            "min_width": null,
            "border": null,
            "align_items": null,
            "bottom": null,
            "_model_module": "@jupyter-widgets/base",
            "top": null,
            "grid_column": null,
            "overflow_y": null,
            "overflow_x": null,
            "grid_auto_flow": null,
            "grid_area": null,
            "grid_template_columns": null,
            "flex": null,
            "_model_name": "LayoutModel",
            "justify_items": null,
            "grid_row": null,
            "max_height": null,
            "align_content": null,
            "visibility": null,
            "align_self": null,
            "height": null,
            "min_height": null,
            "padding": null,
            "grid_auto_rows": null,
            "grid_gap": null,
            "max_width": null,
            "order": null,
            "_view_module_version": "1.2.0",
            "grid_template_areas": null,
            "object_position": null,
            "object_fit": null,
            "grid_auto_columns": null,
            "margin": null,
            "display": null,
            "left": null
          }
        },
        "78c8c1dd13fd455588fb9bb11c7e95cb": {
          "model_module": "@jupyter-widgets/controls",
          "model_name": "DescriptionStyleModel",
          "state": {
            "_view_name": "StyleView",
            "_model_name": "DescriptionStyleModel",
            "description_width": "",
            "_view_module": "@jupyter-widgets/base",
            "_model_module_version": "1.5.0",
            "_view_count": null,
            "_view_module_version": "1.2.0",
            "_model_module": "@jupyter-widgets/controls"
          }
        },
        "e34ce9e4602542b79070117f9bbf5b7e": {
          "model_module": "@jupyter-widgets/base",
          "model_name": "LayoutModel",
          "state": {
            "_view_name": "LayoutView",
            "grid_template_rows": null,
            "right": null,
            "justify_content": null,
            "_view_module": "@jupyter-widgets/base",
            "overflow": null,
            "_model_module_version": "1.2.0",
            "_view_count": null,
            "flex_flow": null,
            "width": null,
            "min_width": null,
            "border": null,
            "align_items": null,
            "bottom": null,
            "_model_module": "@jupyter-widgets/base",
            "top": null,
            "grid_column": null,
            "overflow_y": null,
            "overflow_x": null,
            "grid_auto_flow": null,
            "grid_area": null,
            "grid_template_columns": null,
            "flex": null,
            "_model_name": "LayoutModel",
            "justify_items": null,
            "grid_row": null,
            "max_height": null,
            "align_content": null,
            "visibility": null,
            "align_self": null,
            "height": null,
            "min_height": null,
            "padding": null,
            "grid_auto_rows": null,
            "grid_gap": null,
            "max_width": null,
            "order": null,
            "_view_module_version": "1.2.0",
            "grid_template_areas": null,
            "object_position": null,
            "object_fit": null,
            "grid_auto_columns": null,
            "margin": null,
            "display": null,
            "left": null
          }
        },
        "7633615d63cb45ac97c49b69ae13f30c": {
          "model_module": "@jupyter-widgets/controls",
          "model_name": "HBoxModel",
          "state": {
            "_view_name": "HBoxView",
            "_dom_classes": [],
            "_model_name": "HBoxModel",
            "_view_module": "@jupyter-widgets/controls",
            "_model_module_version": "1.5.0",
            "_view_count": null,
            "_view_module_version": "1.5.0",
            "box_style": "",
            "layout": "IPY_MODEL_aaee5866d357440f9bc2bc17c843a789",
            "_model_module": "@jupyter-widgets/controls",
            "children": [
              "IPY_MODEL_e0dbc75679294b88bf08858f34a135c2",
              "IPY_MODEL_9e0d389919f8455d8e86cc33b92cb1c0"
            ]
          }
        },
        "aaee5866d357440f9bc2bc17c843a789": {
          "model_module": "@jupyter-widgets/base",
          "model_name": "LayoutModel",
          "state": {
            "_view_name": "LayoutView",
            "grid_template_rows": null,
            "right": null,
            "justify_content": null,
            "_view_module": "@jupyter-widgets/base",
            "overflow": null,
            "_model_module_version": "1.2.0",
            "_view_count": null,
            "flex_flow": null,
            "width": null,
            "min_width": null,
            "border": null,
            "align_items": null,
            "bottom": null,
            "_model_module": "@jupyter-widgets/base",
            "top": null,
            "grid_column": null,
            "overflow_y": null,
            "overflow_x": null,
            "grid_auto_flow": null,
            "grid_area": null,
            "grid_template_columns": null,
            "flex": null,
            "_model_name": "LayoutModel",
            "justify_items": null,
            "grid_row": null,
            "max_height": null,
            "align_content": null,
            "visibility": null,
            "align_self": null,
            "height": null,
            "min_height": null,
            "padding": null,
            "grid_auto_rows": null,
            "grid_gap": null,
            "max_width": null,
            "order": null,
            "_view_module_version": "1.2.0",
            "grid_template_areas": null,
            "object_position": null,
            "object_fit": null,
            "grid_auto_columns": null,
            "margin": null,
            "display": null,
            "left": null
          }
        },
        "e0dbc75679294b88bf08858f34a135c2": {
          "model_module": "@jupyter-widgets/controls",
          "model_name": "FloatProgressModel",
          "state": {
            "_view_name": "ProgressView",
            "style": "IPY_MODEL_2cb5f971d3ad4aca9817077243a9fdf5",
            "_dom_classes": [],
            "description": "",
            "_model_name": "FloatProgressModel",
            "bar_style": "success",
            "max": 1,
            "_view_module": "@jupyter-widgets/controls",
            "_model_module_version": "1.5.0",
            "value": 1,
            "_view_count": null,
            "_view_module_version": "1.5.0",
            "orientation": "horizontal",
            "min": 0,
            "description_tooltip": null,
            "_model_module": "@jupyter-widgets/controls",
            "layout": "IPY_MODEL_83d34d33f54c485590cd9f20c9df8b64"
          }
        },
        "9e0d389919f8455d8e86cc33b92cb1c0": {
          "model_module": "@jupyter-widgets/controls",
          "model_name": "HTMLModel",
          "state": {
            "_view_name": "HTMLView",
            "style": "IPY_MODEL_76a3d7f65e884cf1b91beb67650d868e",
            "_dom_classes": [],
            "description": "",
            "_model_name": "HTMLModel",
            "placeholder": "​",
            "_view_module": "@jupyter-widgets/controls",
            "_model_module_version": "1.5.0",
            "value": " 32768/? [00:00&lt;00:00, 226070.99it/s]",
            "_view_count": null,
            "_view_module_version": "1.5.0",
            "description_tooltip": null,
            "_model_module": "@jupyter-widgets/controls",
            "layout": "IPY_MODEL_b83b037682f1447487840dd2e5943cb5"
          }
        },
        "2cb5f971d3ad4aca9817077243a9fdf5": {
          "model_module": "@jupyter-widgets/controls",
          "model_name": "ProgressStyleModel",
          "state": {
            "_view_name": "StyleView",
            "_model_name": "ProgressStyleModel",
            "description_width": "initial",
            "_view_module": "@jupyter-widgets/base",
            "_model_module_version": "1.5.0",
            "_view_count": null,
            "_view_module_version": "1.2.0",
            "bar_color": null,
            "_model_module": "@jupyter-widgets/controls"
          }
        },
        "83d34d33f54c485590cd9f20c9df8b64": {
          "model_module": "@jupyter-widgets/base",
          "model_name": "LayoutModel",
          "state": {
            "_view_name": "LayoutView",
            "grid_template_rows": null,
            "right": null,
            "justify_content": null,
            "_view_module": "@jupyter-widgets/base",
            "overflow": null,
            "_model_module_version": "1.2.0",
            "_view_count": null,
            "flex_flow": null,
            "width": null,
            "min_width": null,
            "border": null,
            "align_items": null,
            "bottom": null,
            "_model_module": "@jupyter-widgets/base",
            "top": null,
            "grid_column": null,
            "overflow_y": null,
            "overflow_x": null,
            "grid_auto_flow": null,
            "grid_area": null,
            "grid_template_columns": null,
            "flex": null,
            "_model_name": "LayoutModel",
            "justify_items": null,
            "grid_row": null,
            "max_height": null,
            "align_content": null,
            "visibility": null,
            "align_self": null,
            "height": null,
            "min_height": null,
            "padding": null,
            "grid_auto_rows": null,
            "grid_gap": null,
            "max_width": null,
            "order": null,
            "_view_module_version": "1.2.0",
            "grid_template_areas": null,
            "object_position": null,
            "object_fit": null,
            "grid_auto_columns": null,
            "margin": null,
            "display": null,
            "left": null
          }
        },
        "76a3d7f65e884cf1b91beb67650d868e": {
          "model_module": "@jupyter-widgets/controls",
          "model_name": "DescriptionStyleModel",
          "state": {
            "_view_name": "StyleView",
            "_model_name": "DescriptionStyleModel",
            "description_width": "",
            "_view_module": "@jupyter-widgets/base",
            "_model_module_version": "1.5.0",
            "_view_count": null,
            "_view_module_version": "1.2.0",
            "_model_module": "@jupyter-widgets/controls"
          }
        },
        "b83b037682f1447487840dd2e5943cb5": {
          "model_module": "@jupyter-widgets/base",
          "model_name": "LayoutModel",
          "state": {
            "_view_name": "LayoutView",
            "grid_template_rows": null,
            "right": null,
            "justify_content": null,
            "_view_module": "@jupyter-widgets/base",
            "overflow": null,
            "_model_module_version": "1.2.0",
            "_view_count": null,
            "flex_flow": null,
            "width": null,
            "min_width": null,
            "border": null,
            "align_items": null,
            "bottom": null,
            "_model_module": "@jupyter-widgets/base",
            "top": null,
            "grid_column": null,
            "overflow_y": null,
            "overflow_x": null,
            "grid_auto_flow": null,
            "grid_area": null,
            "grid_template_columns": null,
            "flex": null,
            "_model_name": "LayoutModel",
            "justify_items": null,
            "grid_row": null,
            "max_height": null,
            "align_content": null,
            "visibility": null,
            "align_self": null,
            "height": null,
            "min_height": null,
            "padding": null,
            "grid_auto_rows": null,
            "grid_gap": null,
            "max_width": null,
            "order": null,
            "_view_module_version": "1.2.0",
            "grid_template_areas": null,
            "object_position": null,
            "object_fit": null,
            "grid_auto_columns": null,
            "margin": null,
            "display": null,
            "left": null
          }
        },
        "68aedcbba88545faa35fad661e3593dc": {
          "model_module": "@jupyter-widgets/controls",
          "model_name": "HBoxModel",
          "state": {
            "_view_name": "HBoxView",
            "_dom_classes": [],
            "_model_name": "HBoxModel",
            "_view_module": "@jupyter-widgets/controls",
            "_model_module_version": "1.5.0",
            "_view_count": null,
            "_view_module_version": "1.5.0",
            "box_style": "",
            "layout": "IPY_MODEL_6c2e30e3e6b54ece9b6b1dd8911264be",
            "_model_module": "@jupyter-widgets/controls",
            "children": [
              "IPY_MODEL_542fe8be001142d988250e383228f199",
              "IPY_MODEL_a2c0a9ae0bce4bb8b2f25bd0ef9e4592"
            ]
          }
        },
        "6c2e30e3e6b54ece9b6b1dd8911264be": {
          "model_module": "@jupyter-widgets/base",
          "model_name": "LayoutModel",
          "state": {
            "_view_name": "LayoutView",
            "grid_template_rows": null,
            "right": null,
            "justify_content": null,
            "_view_module": "@jupyter-widgets/base",
            "overflow": null,
            "_model_module_version": "1.2.0",
            "_view_count": null,
            "flex_flow": null,
            "width": null,
            "min_width": null,
            "border": null,
            "align_items": null,
            "bottom": null,
            "_model_module": "@jupyter-widgets/base",
            "top": null,
            "grid_column": null,
            "overflow_y": null,
            "overflow_x": null,
            "grid_auto_flow": null,
            "grid_area": null,
            "grid_template_columns": null,
            "flex": null,
            "_model_name": "LayoutModel",
            "justify_items": null,
            "grid_row": null,
            "max_height": null,
            "align_content": null,
            "visibility": null,
            "align_self": null,
            "height": null,
            "min_height": null,
            "padding": null,
            "grid_auto_rows": null,
            "grid_gap": null,
            "max_width": null,
            "order": null,
            "_view_module_version": "1.2.0",
            "grid_template_areas": null,
            "object_position": null,
            "object_fit": null,
            "grid_auto_columns": null,
            "margin": null,
            "display": null,
            "left": null
          }
        },
        "542fe8be001142d988250e383228f199": {
          "model_module": "@jupyter-widgets/controls",
          "model_name": "FloatProgressModel",
          "state": {
            "_view_name": "ProgressView",
            "style": "IPY_MODEL_49f5cdcd6e1d4eb39c1c336aa1e6bedc",
            "_dom_classes": [],
            "description": "  0%",
            "_model_name": "FloatProgressModel",
            "bar_style": "info",
            "max": 1,
            "_view_module": "@jupyter-widgets/controls",
            "_model_module_version": "1.5.0",
            "value": 0,
            "_view_count": null,
            "_view_module_version": "1.5.0",
            "orientation": "horizontal",
            "min": 0,
            "description_tooltip": null,
            "_model_module": "@jupyter-widgets/controls",
            "layout": "IPY_MODEL_a76debe351934b46a0dd00ae71bde8c2"
          }
        },
        "a2c0a9ae0bce4bb8b2f25bd0ef9e4592": {
          "model_module": "@jupyter-widgets/controls",
          "model_name": "HTMLModel",
          "state": {
            "_view_name": "HTMLView",
            "style": "IPY_MODEL_0b5c412dbb0045dead657f25ec223b23",
            "_dom_classes": [],
            "description": "",
            "_model_name": "HTMLModel",
            "placeholder": "​",
            "_view_module": "@jupyter-widgets/controls",
            "_model_module_version": "1.5.0",
            "value": " 0/1648877 [00:00&lt;?, ?it/s]",
            "_view_count": null,
            "_view_module_version": "1.5.0",
            "description_tooltip": null,
            "_model_module": "@jupyter-widgets/controls",
            "layout": "IPY_MODEL_1fb23741ab5c4277a4edc7716f0662b4"
          }
        },
        "49f5cdcd6e1d4eb39c1c336aa1e6bedc": {
          "model_module": "@jupyter-widgets/controls",
          "model_name": "ProgressStyleModel",
          "state": {
            "_view_name": "StyleView",
            "_model_name": "ProgressStyleModel",
            "description_width": "initial",
            "_view_module": "@jupyter-widgets/base",
            "_model_module_version": "1.5.0",
            "_view_count": null,
            "_view_module_version": "1.2.0",
            "bar_color": null,
            "_model_module": "@jupyter-widgets/controls"
          }
        },
        "a76debe351934b46a0dd00ae71bde8c2": {
          "model_module": "@jupyter-widgets/base",
          "model_name": "LayoutModel",
          "state": {
            "_view_name": "LayoutView",
            "grid_template_rows": null,
            "right": null,
            "justify_content": null,
            "_view_module": "@jupyter-widgets/base",
            "overflow": null,
            "_model_module_version": "1.2.0",
            "_view_count": null,
            "flex_flow": null,
            "width": null,
            "min_width": null,
            "border": null,
            "align_items": null,
            "bottom": null,
            "_model_module": "@jupyter-widgets/base",
            "top": null,
            "grid_column": null,
            "overflow_y": null,
            "overflow_x": null,
            "grid_auto_flow": null,
            "grid_area": null,
            "grid_template_columns": null,
            "flex": null,
            "_model_name": "LayoutModel",
            "justify_items": null,
            "grid_row": null,
            "max_height": null,
            "align_content": null,
            "visibility": null,
            "align_self": null,
            "height": null,
            "min_height": null,
            "padding": null,
            "grid_auto_rows": null,
            "grid_gap": null,
            "max_width": null,
            "order": null,
            "_view_module_version": "1.2.0",
            "grid_template_areas": null,
            "object_position": null,
            "object_fit": null,
            "grid_auto_columns": null,
            "margin": null,
            "display": null,
            "left": null
          }
        },
        "0b5c412dbb0045dead657f25ec223b23": {
          "model_module": "@jupyter-widgets/controls",
          "model_name": "DescriptionStyleModel",
          "state": {
            "_view_name": "StyleView",
            "_model_name": "DescriptionStyleModel",
            "description_width": "",
            "_view_module": "@jupyter-widgets/base",
            "_model_module_version": "1.5.0",
            "_view_count": null,
            "_view_module_version": "1.2.0",
            "_model_module": "@jupyter-widgets/controls"
          }
        },
        "1fb23741ab5c4277a4edc7716f0662b4": {
          "model_module": "@jupyter-widgets/base",
          "model_name": "LayoutModel",
          "state": {
            "_view_name": "LayoutView",
            "grid_template_rows": null,
            "right": null,
            "justify_content": null,
            "_view_module": "@jupyter-widgets/base",
            "overflow": null,
            "_model_module_version": "1.2.0",
            "_view_count": null,
            "flex_flow": null,
            "width": null,
            "min_width": null,
            "border": null,
            "align_items": null,
            "bottom": null,
            "_model_module": "@jupyter-widgets/base",
            "top": null,
            "grid_column": null,
            "overflow_y": null,
            "overflow_x": null,
            "grid_auto_flow": null,
            "grid_area": null,
            "grid_template_columns": null,
            "flex": null,
            "_model_name": "LayoutModel",
            "justify_items": null,
            "grid_row": null,
            "max_height": null,
            "align_content": null,
            "visibility": null,
            "align_self": null,
            "height": null,
            "min_height": null,
            "padding": null,
            "grid_auto_rows": null,
            "grid_gap": null,
            "max_width": null,
            "order": null,
            "_view_module_version": "1.2.0",
            "grid_template_areas": null,
            "object_position": null,
            "object_fit": null,
            "grid_auto_columns": null,
            "margin": null,
            "display": null,
            "left": null
          }
        },
        "0b43303c1b4a423dab504f569c7a460a": {
          "model_module": "@jupyter-widgets/controls",
          "model_name": "HBoxModel",
          "state": {
            "_view_name": "HBoxView",
            "_dom_classes": [],
            "_model_name": "HBoxModel",
            "_view_module": "@jupyter-widgets/controls",
            "_model_module_version": "1.5.0",
            "_view_count": null,
            "_view_module_version": "1.5.0",
            "box_style": "",
            "layout": "IPY_MODEL_e790555c666649368e1f7b1833aa38e9",
            "_model_module": "@jupyter-widgets/controls",
            "children": [
              "IPY_MODEL_036a336b62e24b81b7870c1ccf090e26",
              "IPY_MODEL_407c95574cc14ef3a92010e640b585d2"
            ]
          }
        },
        "e790555c666649368e1f7b1833aa38e9": {
          "model_module": "@jupyter-widgets/base",
          "model_name": "LayoutModel",
          "state": {
            "_view_name": "LayoutView",
            "grid_template_rows": null,
            "right": null,
            "justify_content": null,
            "_view_module": "@jupyter-widgets/base",
            "overflow": null,
            "_model_module_version": "1.2.0",
            "_view_count": null,
            "flex_flow": null,
            "width": null,
            "min_width": null,
            "border": null,
            "align_items": null,
            "bottom": null,
            "_model_module": "@jupyter-widgets/base",
            "top": null,
            "grid_column": null,
            "overflow_y": null,
            "overflow_x": null,
            "grid_auto_flow": null,
            "grid_area": null,
            "grid_template_columns": null,
            "flex": null,
            "_model_name": "LayoutModel",
            "justify_items": null,
            "grid_row": null,
            "max_height": null,
            "align_content": null,
            "visibility": null,
            "align_self": null,
            "height": null,
            "min_height": null,
            "padding": null,
            "grid_auto_rows": null,
            "grid_gap": null,
            "max_width": null,
            "order": null,
            "_view_module_version": "1.2.0",
            "grid_template_areas": null,
            "object_position": null,
            "object_fit": null,
            "grid_auto_columns": null,
            "margin": null,
            "display": null,
            "left": null
          }
        },
        "036a336b62e24b81b7870c1ccf090e26": {
          "model_module": "@jupyter-widgets/controls",
          "model_name": "FloatProgressModel",
          "state": {
            "_view_name": "ProgressView",
            "style": "IPY_MODEL_d697ca07f77344879e335698dab700b5",
            "_dom_classes": [],
            "description": "",
            "_model_name": "FloatProgressModel",
            "bar_style": "info",
            "max": 1,
            "_view_module": "@jupyter-widgets/controls",
            "_model_module_version": "1.5.0",
            "value": 0,
            "_view_count": null,
            "_view_module_version": "1.5.0",
            "orientation": "horizontal",
            "min": 0,
            "description_tooltip": null,
            "_model_module": "@jupyter-widgets/controls",
            "layout": "IPY_MODEL_7e15f8b204034c35a742e1b1ee158e3a"
          }
        },
        "407c95574cc14ef3a92010e640b585d2": {
          "model_module": "@jupyter-widgets/controls",
          "model_name": "HTMLModel",
          "state": {
            "_view_name": "HTMLView",
            "style": "IPY_MODEL_11cf96b1536e4801bc0e1a499b21640c",
            "_dom_classes": [],
            "description": "",
            "_model_name": "HTMLModel",
            "placeholder": "​",
            "_view_module": "@jupyter-widgets/controls",
            "_model_module_version": "1.5.0",
            "value": " 0/? [00:00&lt;?, ?it/s]",
            "_view_count": null,
            "_view_module_version": "1.5.0",
            "description_tooltip": null,
            "_model_module": "@jupyter-widgets/controls",
            "layout": "IPY_MODEL_a6693fde2e32447a849ea79529ab205a"
          }
        },
        "d697ca07f77344879e335698dab700b5": {
          "model_module": "@jupyter-widgets/controls",
          "model_name": "ProgressStyleModel",
          "state": {
            "_view_name": "StyleView",
            "_model_name": "ProgressStyleModel",
            "description_width": "initial",
            "_view_module": "@jupyter-widgets/base",
            "_model_module_version": "1.5.0",
            "_view_count": null,
            "_view_module_version": "1.2.0",
            "bar_color": null,
            "_model_module": "@jupyter-widgets/controls"
          }
        },
        "7e15f8b204034c35a742e1b1ee158e3a": {
          "model_module": "@jupyter-widgets/base",
          "model_name": "LayoutModel",
          "state": {
            "_view_name": "LayoutView",
            "grid_template_rows": null,
            "right": null,
            "justify_content": null,
            "_view_module": "@jupyter-widgets/base",
            "overflow": null,
            "_model_module_version": "1.2.0",
            "_view_count": null,
            "flex_flow": null,
            "width": null,
            "min_width": null,
            "border": null,
            "align_items": null,
            "bottom": null,
            "_model_module": "@jupyter-widgets/base",
            "top": null,
            "grid_column": null,
            "overflow_y": null,
            "overflow_x": null,
            "grid_auto_flow": null,
            "grid_area": null,
            "grid_template_columns": null,
            "flex": null,
            "_model_name": "LayoutModel",
            "justify_items": null,
            "grid_row": null,
            "max_height": null,
            "align_content": null,
            "visibility": null,
            "align_self": null,
            "height": null,
            "min_height": null,
            "padding": null,
            "grid_auto_rows": null,
            "grid_gap": null,
            "max_width": null,
            "order": null,
            "_view_module_version": "1.2.0",
            "grid_template_areas": null,
            "object_position": null,
            "object_fit": null,
            "grid_auto_columns": null,
            "margin": null,
            "display": null,
            "left": null
          }
        },
        "11cf96b1536e4801bc0e1a499b21640c": {
          "model_module": "@jupyter-widgets/controls",
          "model_name": "DescriptionStyleModel",
          "state": {
            "_view_name": "StyleView",
            "_model_name": "DescriptionStyleModel",
            "description_width": "",
            "_view_module": "@jupyter-widgets/base",
            "_model_module_version": "1.5.0",
            "_view_count": null,
            "_view_module_version": "1.2.0",
            "_model_module": "@jupyter-widgets/controls"
          }
        },
        "a6693fde2e32447a849ea79529ab205a": {
          "model_module": "@jupyter-widgets/base",
          "model_name": "LayoutModel",
          "state": {
            "_view_name": "LayoutView",
            "grid_template_rows": null,
            "right": null,
            "justify_content": null,
            "_view_module": "@jupyter-widgets/base",
            "overflow": null,
            "_model_module_version": "1.2.0",
            "_view_count": null,
            "flex_flow": null,
            "width": null,
            "min_width": null,
            "border": null,
            "align_items": null,
            "bottom": null,
            "_model_module": "@jupyter-widgets/base",
            "top": null,
            "grid_column": null,
            "overflow_y": null,
            "overflow_x": null,
            "grid_auto_flow": null,
            "grid_area": null,
            "grid_template_columns": null,
            "flex": null,
            "_model_name": "LayoutModel",
            "justify_items": null,
            "grid_row": null,
            "max_height": null,
            "align_content": null,
            "visibility": null,
            "align_self": null,
            "height": null,
            "min_height": null,
            "padding": null,
            "grid_auto_rows": null,
            "grid_gap": null,
            "max_width": null,
            "order": null,
            "_view_module_version": "1.2.0",
            "grid_template_areas": null,
            "object_position": null,
            "object_fit": null,
            "grid_auto_columns": null,
            "margin": null,
            "display": null,
            "left": null
          }
        }
      }
    }
  },
  "cells": [
    {
      "cell_type": "markdown",
      "metadata": {
        "id": "pur8_Hi29FJa"
      },
      "source": [
        "#Run pretrained PixelCNNs in jupyter\r\n",
        "\r\n",
        "This code is made for loading our trained PixelCNN models in jyputer notebook and displaying some general results. \r\n",
        "\r\n"
      ]
    },
    {
      "cell_type": "code",
      "metadata": {
        "id": "Poex8g5-n7BJ"
      },
      "source": [
        "#Load dependencies\n",
        "\n",
        "import os\n",
        "import sys\n",
        "import matplotlib.pyplot as plt\n",
        "import numpy as np\n",
        "import torch\n",
        "import torch.nn.functional as F\n",
        "from torch import nn, optim, cuda, backends\n",
        "from torch.autograd import Variable\n",
        "from torch.utils import data\n",
        "from torchvision import datasets, transforms, utils\n",
        "from pixel_functions import *"
      ],
      "execution_count": 2,
      "outputs": []
    },
    {
      "cell_type": "code",
      "metadata": {
        "id": "bwuqg_D-n7BQ",
        "colab": {
          "base_uri": "https://localhost:8080/",
          "height": 386,
          "referenced_widgets": [
            "308e69b2a22c42b3a7eb2fddf5da7080",
            "aa7694d012e64e799c8b3964c6ca20c8",
            "034511abb3a244b7aba2d4ffb484a557",
            "a4d2b4c853304bac9878ce2926f6cf34",
            "031ab91b5c0a48529edf1d6e3bb3fa3c",
            "dfd2c64f0b9d430f9e33eddb06d2212e",
            "78c8c1dd13fd455588fb9bb11c7e95cb",
            "e34ce9e4602542b79070117f9bbf5b7e",
            "7633615d63cb45ac97c49b69ae13f30c",
            "aaee5866d357440f9bc2bc17c843a789",
            "e0dbc75679294b88bf08858f34a135c2",
            "9e0d389919f8455d8e86cc33b92cb1c0",
            "2cb5f971d3ad4aca9817077243a9fdf5",
            "83d34d33f54c485590cd9f20c9df8b64",
            "76a3d7f65e884cf1b91beb67650d868e",
            "b83b037682f1447487840dd2e5943cb5",
            "68aedcbba88545faa35fad661e3593dc",
            "6c2e30e3e6b54ece9b6b1dd8911264be",
            "542fe8be001142d988250e383228f199",
            "a2c0a9ae0bce4bb8b2f25bd0ef9e4592",
            "49f5cdcd6e1d4eb39c1c336aa1e6bedc",
            "a76debe351934b46a0dd00ae71bde8c2",
            "0b5c412dbb0045dead657f25ec223b23",
            "1fb23741ab5c4277a4edc7716f0662b4",
            "0b43303c1b4a423dab504f569c7a460a",
            "e790555c666649368e1f7b1833aa38e9",
            "036a336b62e24b81b7870c1ccf090e26",
            "407c95574cc14ef3a92010e640b585d2",
            "d697ca07f77344879e335698dab700b5",
            "7e15f8b204034c35a742e1b1ee158e3a",
            "11cf96b1536e4801bc0e1a499b21640c",
            "a6693fde2e32447a849ea79529ab205a"
          ]
        },
        "outputId": "147bf013-b971-4fec-9606-fbf3e1be1c0c"
      },
      "source": [
        "#Load datasets (MNIST)\n",
        "\n",
        "trans = transforms.Compose([transforms.ToTensor(), DynamicBinarization()])\n",
        "\n",
        "tr_bin = data.DataLoader(datasets.MNIST('../data', train=True, download=True, transform=trans),\n",
        "                     batch_size=128, shuffle=True, num_workers=0, pin_memory=True)\n",
        "te_bin = data.DataLoader(datasets.MNIST('../data', train=False, download=True, transform=trans),\n",
        "                     batch_size=128, shuffle=False, num_workers=0, pin_memory=True)\n",
        "tr_256 = data.DataLoader(datasets.MNIST('../data', train=True, download=True, transform=transforms.ToTensor()),\n",
        "                     batch_size=128, shuffle=True, num_workers=0, pin_memory=True)\n",
        "te_256 = data.DataLoader(datasets.MNIST('../data', train=False, download=True, transform=transforms.ToTensor()),\n",
        "                     batch_size=128, shuffle=False, num_workers=0, pin_memory=True)"
      ],
      "execution_count": 3,
      "outputs": [
        {
          "output_type": "stream",
          "text": [
            "Downloading http://yann.lecun.com/exdb/mnist/train-images-idx3-ubyte.gz to ../data/MNIST/raw/train-images-idx3-ubyte.gz\n"
          ],
          "name": "stdout"
        },
        {
          "output_type": "display_data",
          "data": {
            "application/vnd.jupyter.widget-view+json": {
              "model_id": "308e69b2a22c42b3a7eb2fddf5da7080",
              "version_minor": 0,
              "version_major": 2
            },
            "text/plain": [
              "HBox(children=(FloatProgress(value=1.0, bar_style='info', max=1.0), HTML(value='')))"
            ]
          },
          "metadata": {
            "tags": []
          }
        },
        {
          "output_type": "stream",
          "text": [
            "Extracting ../data/MNIST/raw/train-images-idx3-ubyte.gz to ../data/MNIST/raw\n",
            "Downloading http://yann.lecun.com/exdb/mnist/train-labels-idx1-ubyte.gz to ../data/MNIST/raw/train-labels-idx1-ubyte.gz\n"
          ],
          "name": "stdout"
        },
        {
          "output_type": "display_data",
          "data": {
            "application/vnd.jupyter.widget-view+json": {
              "model_id": "7633615d63cb45ac97c49b69ae13f30c",
              "version_minor": 0,
              "version_major": 2
            },
            "text/plain": [
              "HBox(children=(FloatProgress(value=1.0, bar_style='info', max=1.0), HTML(value='')))"
            ]
          },
          "metadata": {
            "tags": []
          }
        },
        {
          "output_type": "stream",
          "text": [
            "Extracting ../data/MNIST/raw/train-labels-idx1-ubyte.gz to ../data/MNIST/raw\n",
            "Downloading http://yann.lecun.com/exdb/mnist/t10k-images-idx3-ubyte.gz to ../data/MNIST/raw/t10k-images-idx3-ubyte.gz\n",
            "\n"
          ],
          "name": "stdout"
        },
        {
          "output_type": "display_data",
          "data": {
            "application/vnd.jupyter.widget-view+json": {
              "model_id": "68aedcbba88545faa35fad661e3593dc",
              "version_minor": 0,
              "version_major": 2
            },
            "text/plain": [
              "HBox(children=(FloatProgress(value=1.0, bar_style='info', max=1.0), HTML(value='')))"
            ]
          },
          "metadata": {
            "tags": []
          }
        },
        {
          "output_type": "stream",
          "text": [
            "Extracting ../data/MNIST/raw/t10k-images-idx3-ubyte.gz to ../data/MNIST/raw\n",
            "Downloading http://yann.lecun.com/exdb/mnist/t10k-labels-idx1-ubyte.gz to ../data/MNIST/raw/t10k-labels-idx1-ubyte.gz\n"
          ],
          "name": "stdout"
        },
        {
          "output_type": "display_data",
          "data": {
            "application/vnd.jupyter.widget-view+json": {
              "model_id": "0b43303c1b4a423dab504f569c7a460a",
              "version_minor": 0,
              "version_major": 2
            },
            "text/plain": [
              "HBox(children=(FloatProgress(value=1.0, bar_style='info', max=1.0), HTML(value='')))"
            ]
          },
          "metadata": {
            "tags": []
          }
        },
        {
          "output_type": "stream",
          "text": [
            "Extracting ../data/MNIST/raw/t10k-labels-idx1-ubyte.gz to ../data/MNIST/raw\n",
            "Processing...\n",
            "Done!\n"
          ],
          "name": "stdout"
        },
        {
          "output_type": "stream",
          "text": [
            "/usr/local/lib/python3.6/dist-packages/torchvision/datasets/mnist.py:480: UserWarning: The given NumPy array is not writeable, and PyTorch does not support non-writeable tensors. This means you can write to the underlying (supposedly non-writeable) NumPy array using the tensor. You may want to copy the array to protect its data or make it writeable before converting it to a tensor. This type of warning will be suppressed for the rest of this program. (Triggered internally at  /pytorch/torch/csrc/utils/tensor_numpy.cpp:141.)\n",
            "  return torch.from_numpy(parsed.astype(m[2], copy=False)).view(*s)\n"
          ],
          "name": "stderr"
        }
      ]
    },
    {
      "cell_type": "code",
      "metadata": {
        "id": "xA2x84kOn7BS",
        "colab": {
          "base_uri": "https://localhost:8080/"
        },
        "outputId": "781762ed-6355-4484-d49b-7a60465dddf8"
      },
      "source": [
        "#Define models and load pytorch state dicts\n",
        "\n",
        "net_pixel_bin  = PixelCNN(num_filters=64, color_levels=1)\n",
        "net_pixel_bin.cuda()\n",
        "checkpoint = torch.load(\"Standard_Binary_e25.pth\")\n",
        "net_pixel_bin.load_state_dict(checkpoint)\n",
        "\n",
        "net_pixel_256 = PixelCNN(num_filters=64, color_levels=256)\n",
        "net_pixel_256.cuda()\n",
        "checkpoint = torch.load(\"Standard_256_e49.pth\")\n",
        "net_pixel_256.load_state_dict(checkpoint)\n",
        "\n",
        "net_gated_bin = GatedPixelCNN(hidden_fmaps=64, causal_ksize=7, hidden_ksize=3, num_layers=12, \n",
        "                    out_hidden_fmaps=256, color_levels=1)\n",
        "net_gated_bin.cuda()\n",
        "checkpoint = torch.load('Gated_Binary_e50.pth')\n",
        "net_gated_bin.load_state_dict(checkpoint)\n",
        "\n",
        "net_gated_256 = GatedPixelCNN(hidden_fmaps=64, causal_ksize=7, hidden_ksize=3, num_layers=12, \n",
        "                    out_hidden_fmaps=256, color_levels=256)\n",
        "net_gated_256.cuda()\n",
        "checkpoint = torch.load('Gated_256_e50.pth')\n",
        "net_gated_256.load_state_dict(checkpoint)\n",
        "\n",
        "net_space_256 = GatedPixelCNN_space(hidden_fmaps=64, causal_ksize=7, hidden_ksize=3, num_layers=12, \n",
        "                    out_hidden_fmaps=256, color_levels=256)\n",
        "net_space_256.cuda()\n",
        "checkpoint = torch.load('Spacial_Gated_256_e60.pth')\n",
        "net_space_256.load_state_dict(checkpoint)\n",
        "\n",
        "net_space_bin = GatedPixelCNN_space(hidden_fmaps=64, causal_ksize=7, hidden_ksize=3, num_layers=12, \n",
        "                    out_hidden_fmaps=256, color_levels=1)\n",
        "net_space_bin.cuda()\n",
        "checkpoint = torch.load('Spacial_Gated_Binary_e30.pth')\n",
        "net_space_bin.load_state_dict(checkpoint)\n"
      ],
      "execution_count": 4,
      "outputs": [
        {
          "output_type": "execute_result",
          "data": {
            "text/plain": [
              "<All keys matched successfully>"
            ]
          },
          "metadata": {
            "tags": []
          },
          "execution_count": 4
        }
      ]
    },
    {
      "cell_type": "code",
      "metadata": {
        "id": "CSVZVkZNn7BW"
      },
      "source": [
        "# Generate a (ns x ns) grid of samples from scratch ~5 min\n",
        "\n",
        "ns = 8\n",
        "s_pixel_bin = sample_images(net_pixel_bin,num_colors=1,num_samples=ns,label_bool=False)\n",
        "s_pixel_256 = sample_images(net_pixel_256,num_colors=256,num_samples=ns,label_bool=False)\n",
        "s_gated_bin = sample_images(net_gated_bin,num_colors=1,num_samples=ns,label_bool=True)\n",
        "s_gated_256 = sample_images(net_gated_256,num_colors=256,num_samples=ns,label_bool=True)\n",
        "s_space_bin = sample_images(net_space_bin,num_colors=1,num_samples=ns,label_bool=True)\n",
        "s_space_256 = sample_images(net_space_256,num_colors=256,num_samples=ns,label_bool=True)\n",
        "\n",
        "utils.save_image(s_pixel_bin, 'pixel_bin.png', nrow=8, padding=0)\n",
        "utils.save_image(s_pixel_256, 'pixel_256.png', nrow=8, padding=0)\n",
        "utils.save_image(s_gated_bin, 'gated_bin.png', nrow=8, padding=0)\n",
        "utils.save_image(s_gated_256, 'gated_256.png', nrow=8, padding=0)\n",
        "utils.save_image(s_space_bin, 'space_bin.png', nrow=8, padding=0)\n",
        "utils.save_image(s_space_256, 'space_256.png', nrow=8, padding=0)"
      ],
      "execution_count": null,
      "outputs": []
    },
    {
      "cell_type": "code",
      "metadata": {
        "id": "3gGUYR0nn7BX"
      },
      "source": [
        "#Get data for half images\n",
        "\n",
        "input, labels = next(iter(te_256))\n",
        "label = Variable(labels.cuda().long())[[[torch.where(labels==i)[0][0] for i in range(10)]]]\n",
        "label = torch.repeat_interleave(label, 10, dim=0)\n",
        "input_bin = Variable(Binarize(input.cuda()))[[[torch.where(labels==i)[0][0] for i in range(10)]]]\n",
        "input = Variable(input.cuda())[[[torch.where(labels==i)[0][0] for i in range(10)]]]\n",
        "input = torch.repeat_interleave(input, 10, dim=0)\n",
        "input_bin = torch.repeat_interleave(input_bin, 10, dim=0)"
      ],
      "execution_count": null,
      "outputs": []
    },
    {
      "cell_type": "code",
      "metadata": {
        "id": "8DBdfE95n7BY"
      },
      "source": [
        "#Finish half images for all models (10 times for each model and each digit) ~5 min\n",
        "\n",
        "utils.save_image(input_bin, 'Half_images_GT_bin.png', nrow=10, padding=0)\n",
        "utils.save_image(input, 'Half_images_GT.png', nrow=10, padding=0)\n",
        "\n",
        "sample_pixel_bin = plot_half_boys(net = net_pixel_bin,input=input_bin,num_colors=1,label = None)\n",
        "utils.save_image(sample_pixel_bin, 'Half_images_pixel_bin_1.png', nrow=10, padding=0)\n",
        "sample_pixel_256 = plot_half_boys(net = net_pixel_256,input=input,num_colors=256,label = None)\n",
        "utils.save_image(sample_pixel_256, 'Half_images_pixel_256_1.png', nrow=10, padding=0)\n",
        "\n",
        "sample_gated_bin = plot_half_boys(net = net_gated_bin,input=input_bin,num_colors=1,label = label)\n",
        "utils.save_image(sample_gated_bin, 'Half_images_gated_bin_1.png', nrow=10, padding=0)\n",
        "sample_gated_256 = plot_half_boys(net = net_gated_256,input=input,num_colors=256,label = label)\n",
        "utils.save_image(sample_gated_256, 'Half_images_gated_256_1.png', nrow=10, padding=0)\n",
        "\n",
        "sample_space_bin = plot_half_boys(net = net_space_bin,input=input_bin,num_colors=1,label = label)\n",
        "utils.save_image(sample_space_bin, 'Half_images_space_bin_1.png', nrow=10, padding=0)\n",
        "sample_space_256 = plot_half_boys(net = net_space_256,input=input,num_colors=256,label = label)\n",
        "utils.save_image(sample_space_256, 'Half_images_space_256_1.png', nrow=10, padding=0)"
      ],
      "execution_count": null,
      "outputs": []
    },
    {
      "cell_type": "code",
      "metadata": {
        "colab": {
          "base_uri": "https://localhost:8080/"
        },
        "id": "cOt0fUaqFdOV",
        "outputId": "e644ac49-11fc-4a3e-84ac-d6da78931e0b"
      },
      "source": [
        "#get test losses for the models\r\n",
        "\r\n",
        "loss_pixel_256 = []\r\n",
        "loss_gated_256 = []\r\n",
        "loss_space_256 = []\r\n",
        "loss_pixel_bin = []\r\n",
        "loss_gated_bin = []\r\n",
        "loss_space_bin = []\r\n",
        "\r\n",
        "criterion_256 = F.cross_entropy\r\n",
        "criterion_bin = nn.BCEWithLogitsLoss(reduction='mean')\r\n",
        "\r\n",
        "with torch.no_grad():\r\n",
        "        for input, label in te_256:#tr_256 for training set instead\r\n",
        "            label = Variable(label.cuda().long())\r\n",
        "            target = Variable((input.data[:,0]*255).long().cuda())\r\n",
        "            input = Variable((input*2-1).cuda())\r\n",
        "            loss_pixel_256.append(criterion_256(net_pixel_256(input), target))\r\n",
        "            loss_gated_256.append(criterion_256(net_gated_256(input, label), target))\r\n",
        "            loss_space_256.append(criterion_256(net_space_256(input, label), target))\r\n",
        "\r\n",
        "        for input, label in te_bin:#tr_bin for training set instead\r\n",
        "            label = Variable(label.cuda().long())\r\n",
        "            input = Variable(input.cuda())\r\n",
        "            target = Variable(input.data[:,0].unsqueeze(1))/2+1/2*torch.ones_like(input)\r\n",
        "            loss_pixel_bin.append(criterion_bin(net_pixel_bin(input), target))\r\n",
        "            loss_gated_bin.append(criterion_bin(net_gated_bin(input, label), target))\r\n",
        "            loss_space_bin.append(criterion_bin(net_space_bin(input, label), target))\r\n",
        "\r\n",
        "print(\"Mean loss for standard 256: \",torch.tensor(loss_pixel_256).mean().cpu().numpy())\r\n",
        "print(\"Mean loss for gated 256: \",torch.tensor(loss_gated_256).mean().cpu().numpy())\r\n",
        "print(\"Mean loss for spacial 256: \",torch.tensor(loss_space_256).mean().cpu().numpy())\r\n",
        "print(\"Mean loss for standard bin: \",torch.tensor(loss_pixel_bin).mean().cpu().numpy())\r\n",
        "print(\"Mean loss for gated bin: \",torch.tensor(loss_gated_bin).mean().cpu().numpy())\r\n",
        "print(\"Mean loss for spacial bin: \",torch.tensor(loss_space_bin).mean().cpu().numpy())"
      ],
      "execution_count": 5,
      "outputs": [
        {
          "output_type": "stream",
          "text": [
            "Mean loss for standard 256:  0.7208883\n",
            "Mean loss for gated 256:  0.5989351\n",
            "Mean loss for spacial 256:  0.6005826\n",
            "Mean loss for standard bin:  0.10873116\n",
            "Mean loss for gated bin:  0.0998669\n",
            "Mean loss for spacial bin:  0.09946648\n"
          ],
          "name": "stdout"
        }
      ]
    }
  ]
}