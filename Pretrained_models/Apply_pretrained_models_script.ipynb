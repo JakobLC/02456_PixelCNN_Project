{
  "nbformat": 4,
  "nbformat_minor": 0,
  "metadata": {
    "kernelspec": {
      "display_name": "Python 3",
      "language": "python",
      "name": "python3"
    },
    "language_info": {
      "codemirror_mode": {
        "name": "ipython",
        "version": 3
      },
      "file_extension": ".py",
      "mimetype": "text/x-python",
      "name": "python",
      "nbconvert_exporter": "python",
      "pygments_lexer": "ipython3",
      "version": "3.8.5"
    },
    "colab": {
      "name": "Test_all_nets.ipynb",
      "provenance": []
    },
    "accelerator": "GPU"
  },
  "cells": [
    {
      "cell_type": "code",
      "metadata": {
        "id": "Poex8g5-n7BJ"
      },
      "source": [
        "#Load dependencies\n",
        "\n",
        "import os\n",
        "import sys\n",
        "import matplotlib.pyplot as plt\n",
        "import numpy as np\n",
        "import torch\n",
        "import torch.nn.functional as F\n",
        "from torch import nn, optim, cuda, backends\n",
        "from torch.autograd import Variable\n",
        "from torch.utils import data\n",
        "from torchvision import datasets, transforms, utils\n",
        "from pixel_functions import *"
      ],
      "execution_count": 1,
      "outputs": []
    },
    {
      "cell_type": "code",
      "metadata": {
        "id": "bwuqg_D-n7BQ"
      },
      "source": [
        "#Load datasets (MNIST)\n",
        "\n",
        "trans = transforms.Compose([transforms.ToTensor(), DynamicBinarization()])\n",
        "\n",
        "tr_bin = data.DataLoader(datasets.MNIST('../data', train=True, download=True, transform=trans),\n",
        "                     batch_size=128, shuffle=True, num_workers=0, pin_memory=True)\n",
        "te_bin = data.DataLoader(datasets.MNIST('../data', train=False, download=True, transform=trans),\n",
        "                     batch_size=128, shuffle=False, num_workers=0, pin_memory=True)\n",
        "tr_256 = data.DataLoader(datasets.MNIST('../data', train=True, download=True, transform=transforms.ToTensor()),\n",
        "                     batch_size=128, shuffle=True, num_workers=0, pin_memory=True)\n",
        "te_256 = data.DataLoader(datasets.MNIST('../data', train=False, download=True, transform=transforms.ToTensor()),\n",
        "                     batch_size=128, shuffle=False, num_workers=0, pin_memory=True)"
      ],
      "execution_count": null,
      "outputs": []
    },
    {
      "cell_type": "code",
      "metadata": {
        "id": "xA2x84kOn7BS"
      },
      "source": [
        "#Define models and load pytorch state dicts\n",
        "\n",
        "net_pixel_bin  = PixelCNN(num_filters=64, color_levels=1)\n",
        "net_pixel_bin.cuda()\n",
        "checkpoint = torch.load(\"Standard_Binary_e25.pth\")\n",
        "net_pixel_bin.load_state_dict(checkpoint)\n",
        "\n",
        "net_pixel_256 = PixelCNN(num_filters=64, color_levels=256)\n",
        "net_pixel_256.cuda()\n",
        "checkpoint = torch.load(\"Standard_256_e49.pth\")\n",
        "net_pixel_256.load_state_dict(checkpoint)\n",
        "\n",
        "net_gated_bin = GatedPixelCNN(hidden_fmaps=64, causal_ksize=7, hidden_ksize=3, num_layers=12, \n",
        "                    out_hidden_fmaps=256, color_levels=1)\n",
        "net_gated_bin.cuda()\n",
        "checkpoint = torch.load('Gated_Binary_e50.pth')\n",
        "net_gated_bin.load_state_dict(checkpoint)\n",
        "\n",
        "net_gated_256 = GatedPixelCNN(hidden_fmaps=64, causal_ksize=7, hidden_ksize=3, num_layers=12, \n",
        "                    out_hidden_fmaps=256, color_levels=256)\n",
        "net_gated_256.cuda()\n",
        "checkpoint = torch.load('Gated_256_e50.pth')\n",
        "net_gated_256.load_state_dict(checkpoint)\n",
        "\n",
        "net_space_256 = GatedPixelCNN_space(hidden_fmaps=64, causal_ksize=7, hidden_ksize=3, num_layers=12, \n",
        "                    out_hidden_fmaps=256, color_levels=256)\n",
        "net_space_256.cuda()\n",
        "checkpoint = torch.load('Spacial_Gated_256_e60.pth')\n",
        "net_space_256.load_state_dict(checkpoint)\n",
        "\n",
        "net_space_bin = GatedPixelCNN_space(hidden_fmaps=64, causal_ksize=7, hidden_ksize=3, num_layers=12, \n",
        "                    out_hidden_fmaps=256, color_levels=1)\n",
        "net_space_bin.cuda()\n",
        "checkpoint = torch.load('Spacial_Gated_Binary_e30.pth')\n",
        "net_space_bin.load_state_dict(checkpoint)\n"
      ],
      "execution_count": null,
      "outputs": []
    },
    {
      "cell_type": "code",
      "metadata": {
        "id": "CSVZVkZNn7BW"
      },
      "source": [
        "# Generate a (ns x ns) grid of samples ~5 min\n",
        "\n",
        "ns = 8\n",
        "s_pixel_bin = sample_images(net_pixel_bin,num_colors=1,num_samples=ns,label_bool=False)\n",
        "s_pixel_256 = sample_images(net_pixel_256,num_colors=256,num_samples=ns,label_bool=False)\n",
        "s_gated_bin = sample_images(net_gated_bin,num_colors=1,num_samples=ns,label_bool=True)\n",
        "s_gated_256 = sample_images(net_gated_256,num_colors=256,num_samples=ns,label_bool=True)\n",
        "s_space_bin = sample_images(net_space_bin,num_colors=1,num_samples=ns,label_bool=True)\n",
        "s_space_256 = sample_images(net_space_256,num_colors=256,num_samples=ns,label_bool=True)\n",
        "\n",
        "utils.save_image(s_pixel_bin, 'pixel_bin.png', nrow=8, padding=0)\n",
        "utils.save_image(s_pixel_256, 'pixel_256.png', nrow=8, padding=0)\n",
        "utils.save_image(s_gated_bin, 'gated_bin.png', nrow=8, padding=0)\n",
        "utils.save_image(s_gated_256, 'gated_256.png', nrow=8, padding=0)\n",
        "utils.save_image(s_space_bin, 'space_bin.png', nrow=8, padding=0)\n",
        "utils.save_image(s_space_256, 'space_256.png', nrow=8, padding=0)"
      ],
      "execution_count": null,
      "outputs": []
    },
    {
      "cell_type": "code",
      "metadata": {
        "id": "3gGUYR0nn7BX"
      },
      "source": [
        "#Get data for half images\n",
        "\n",
        "input, labels = next(iter(te_256))\n",
        "label = Variable(labels.cuda().long())[[[torch.where(labels==i)[0][0] for i in range(10)]]]\n",
        "label = torch.repeat_interleave(label, 10, dim=0)\n",
        "input_bin = Variable(Binarize(input.cuda()))[[[torch.where(labels==i)[0][0] for i in range(10)]]]\n",
        "input = Variable(input.cuda())[[[torch.where(labels==i)[0][0] for i in range(10)]]]\n",
        "input = torch.repeat_interleave(input, 10, dim=0)\n",
        "input_bin = torch.repeat_interleave(input_bin, 10, dim=0)"
      ],
      "execution_count": 11,
      "outputs": []
    },
    {
      "cell_type": "code",
      "metadata": {
        "id": "8DBdfE95n7BY"
      },
      "source": [
        "#Finish half images for all models (10 times for each model and each digit) ~5 min\n",
        "\n",
        "utils.save_image(input_bin, 'Half_images_GT_bin.png', nrow=10, padding=0)\n",
        "utils.save_image(input, 'Half_images_GT.png', nrow=10, padding=0)\n",
        "\n",
        "sample_pixel_bin = plot_half_boys(net = net_pixel_bin,input=input_bin,num_colors=1,label = None)\n",
        "utils.save_image(sample_pixel_bin, 'Half_images_pixel_bin_1.png', nrow=10, padding=0)\n",
        "sample_pixel_256 = plot_half_boys(net = net_pixel_256,input=input,num_colors=256,label = None)\n",
        "utils.save_image(sample_pixel_256, 'Half_images_pixel_256_1.png', nrow=10, padding=0)\n",
        "\n",
        "sample_gated_bin = plot_half_boys(net = net_gated_bin,input=input_bin,num_colors=1,label = label)\n",
        "utils.save_image(sample_gated_bin, 'Half_images_gated_bin_1.png', nrow=10, padding=0)\n",
        "sample_gated_256 = plot_half_boys(net = net_gated_256,input=input,num_colors=256,label = label)\n",
        "utils.save_image(sample_gated_256, 'Half_images_gated_256_1.png', nrow=10, padding=0)\n",
        "\n",
        "sample_space_bin = plot_half_boys(net = net_space_bin,input=input_bin,num_colors=1,label = label)\n",
        "utils.save_image(sample_space_bin, 'Half_images_space_bin_1.png', nrow=10, padding=0)\n",
        "sample_space_256 = plot_half_boys(net = net_space_256,input=input,num_colors=256,label = label)\n",
        "utils.save_image(sample_space_256, 'Half_images_space_256_1.png', nrow=10, padding=0)"
      ],
      "execution_count": 12,
      "outputs": []
    }
  ]
}