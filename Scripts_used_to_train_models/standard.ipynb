{
  "nbformat": 4,
  "nbformat_minor": 0,
  "metadata": {
    "accelerator": "GPU",
    "colab": {
      "name": "PixelCNN_Binary_MNIST.ipynb",
      "provenance": []
    },
    "kernelspec": {
      "display_name": "Python 3",
      "language": "python",
      "name": "python3"
    },
    "language_info": {
      "codemirror_mode": {
        "name": "ipython",
        "version": 3
      },
      "file_extension": ".py",
      "mimetype": "text/x-python",
      "name": "python",
      "nbconvert_exporter": "python",
      "pygments_lexer": "ipython3",
      "version": "3.8.3"
    },
    "widgets": {
      "application/vnd.jupyter.widget-state+json": {
        "99c3e02f2786423cbcd01ebbb1c90903": {
          "model_module": "@jupyter-widgets/controls",
          "model_name": "HBoxModel",
          "state": {
            "_dom_classes": [],
            "_model_module": "@jupyter-widgets/controls",
            "_model_module_version": "1.5.0",
            "_model_name": "HBoxModel",
            "_view_count": null,
            "_view_module": "@jupyter-widgets/controls",
            "_view_module_version": "1.5.0",
            "_view_name": "HBoxView",
            "box_style": "",
            "children": [
              "IPY_MODEL_7587f6db538d43899c2eb8d2d0f6f332",
              "IPY_MODEL_0cd5ec33c94c449592d449ccb22abed4"
            ],
            "layout": "IPY_MODEL_f63c8e1b3c2f4615b78f10e516f9c462"
          }
        },
        "7587f6db538d43899c2eb8d2d0f6f332": {
          "model_module": "@jupyter-widgets/controls",
          "model_name": "FloatProgressModel",
          "state": {
            "_dom_classes": [],
            "_model_module": "@jupyter-widgets/controls",
            "_model_module_version": "1.5.0",
            "_model_name": "FloatProgressModel",
            "_view_count": null,
            "_view_module": "@jupyter-widgets/controls",
            "_view_module_version": "1.5.0",
            "_view_name": "ProgressView",
            "bar_style": "info",
            "description": "",
            "description_tooltip": null,
            "layout": "IPY_MODEL_e6544adb35cb4ec78ee49cc739a4da4b",
            "max": 1,
            "min": 0,
            "orientation": "horizontal",
            "style": "IPY_MODEL_51fd625eddfe4b4d874ceb5dff404364",
            "value": 1
          }
        },
        "0cd5ec33c94c449592d449ccb22abed4": {
          "model_module": "@jupyter-widgets/controls",
          "model_name": "HTMLModel",
          "state": {
            "_dom_classes": [],
            "_model_module": "@jupyter-widgets/controls",
            "_model_module_version": "1.5.0",
            "_model_name": "HTMLModel",
            "_view_count": null,
            "_view_module": "@jupyter-widgets/controls",
            "_view_module_version": "1.5.0",
            "_view_name": "HTMLView",
            "description": "",
            "description_tooltip": null,
            "layout": "IPY_MODEL_9664436365a341038d2e543560c8f329",
            "placeholder": "​",
            "style": "IPY_MODEL_1f0404f0ef404e37ad4c877f0edddcb3",
            "value": " 9920512/? [00:20&lt;00:00, 26681835.57it/s]"
          }
        },
        "f63c8e1b3c2f4615b78f10e516f9c462": {
          "model_module": "@jupyter-widgets/base",
          "model_name": "LayoutModel",
          "state": {
            "_model_module": "@jupyter-widgets/base",
            "_model_module_version": "1.2.0",
            "_model_name": "LayoutModel",
            "_view_count": null,
            "_view_module": "@jupyter-widgets/base",
            "_view_module_version": "1.2.0",
            "_view_name": "LayoutView",
            "align_content": null,
            "align_items": null,
            "align_self": null,
            "border": null,
            "bottom": null,
            "display": null,
            "flex": null,
            "flex_flow": null,
            "grid_area": null,
            "grid_auto_columns": null,
            "grid_auto_flow": null,
            "grid_auto_rows": null,
            "grid_column": null,
            "grid_gap": null,
            "grid_row": null,
            "grid_template_areas": null,
            "grid_template_columns": null,
            "grid_template_rows": null,
            "height": null,
            "justify_content": null,
            "justify_items": null,
            "left": null,
            "margin": null,
            "max_height": null,
            "max_width": null,
            "min_height": null,
            "min_width": null,
            "object_fit": null,
            "object_position": null,
            "order": null,
            "overflow": null,
            "overflow_x": null,
            "overflow_y": null,
            "padding": null,
            "right": null,
            "top": null,
            "visibility": null,
            "width": null
          }
        },
        "e6544adb35cb4ec78ee49cc739a4da4b": {
          "model_module": "@jupyter-widgets/base",
          "model_name": "LayoutModel",
          "state": {
            "_model_module": "@jupyter-widgets/base",
            "_model_module_version": "1.2.0",
            "_model_name": "LayoutModel",
            "_view_count": null,
            "_view_module": "@jupyter-widgets/base",
            "_view_module_version": "1.2.0",
            "_view_name": "LayoutView",
            "align_content": null,
            "align_items": null,
            "align_self": null,
            "border": null,
            "bottom": null,
            "display": null,
            "flex": null,
            "flex_flow": null,
            "grid_area": null,
            "grid_auto_columns": null,
            "grid_auto_flow": null,
            "grid_auto_rows": null,
            "grid_column": null,
            "grid_gap": null,
            "grid_row": null,
            "grid_template_areas": null,
            "grid_template_columns": null,
            "grid_template_rows": null,
            "height": null,
            "justify_content": null,
            "justify_items": null,
            "left": null,
            "margin": null,
            "max_height": null,
            "max_width": null,
            "min_height": null,
            "min_width": null,
            "object_fit": null,
            "object_position": null,
            "order": null,
            "overflow": null,
            "overflow_x": null,
            "overflow_y": null,
            "padding": null,
            "right": null,
            "top": null,
            "visibility": null,
            "width": null
          }
        },
        "51fd625eddfe4b4d874ceb5dff404364": {
          "model_module": "@jupyter-widgets/controls",
          "model_name": "ProgressStyleModel",
          "state": {
            "_model_module": "@jupyter-widgets/controls",
            "_model_module_version": "1.5.0",
            "_model_name": "ProgressStyleModel",
            "_view_count": null,
            "_view_module": "@jupyter-widgets/base",
            "_view_module_version": "1.2.0",
            "_view_name": "StyleView",
            "bar_color": null,
            "description_width": "initial"
          }
        },
        "9664436365a341038d2e543560c8f329": {
          "model_module": "@jupyter-widgets/base",
          "model_name": "LayoutModel",
          "state": {
            "_model_module": "@jupyter-widgets/base",
            "_model_module_version": "1.2.0",
            "_model_name": "LayoutModel",
            "_view_count": null,
            "_view_module": "@jupyter-widgets/base",
            "_view_module_version": "1.2.0",
            "_view_name": "LayoutView",
            "align_content": null,
            "align_items": null,
            "align_self": null,
            "border": null,
            "bottom": null,
            "display": null,
            "flex": null,
            "flex_flow": null,
            "grid_area": null,
            "grid_auto_columns": null,
            "grid_auto_flow": null,
            "grid_auto_rows": null,
            "grid_column": null,
            "grid_gap": null,
            "grid_row": null,
            "grid_template_areas": null,
            "grid_template_columns": null,
            "grid_template_rows": null,
            "height": null,
            "justify_content": null,
            "justify_items": null,
            "left": null,
            "margin": null,
            "max_height": null,
            "max_width": null,
            "min_height": null,
            "min_width": null,
            "object_fit": null,
            "object_position": null,
            "order": null,
            "overflow": null,
            "overflow_x": null,
            "overflow_y": null,
            "padding": null,
            "right": null,
            "top": null,
            "visibility": null,
            "width": null
          }
        },
        "1f0404f0ef404e37ad4c877f0edddcb3": {
          "model_module": "@jupyter-widgets/controls",
          "model_name": "DescriptionStyleModel",
          "state": {
            "_model_module": "@jupyter-widgets/controls",
            "_model_module_version": "1.5.0",
            "_model_name": "DescriptionStyleModel",
            "_view_count": null,
            "_view_module": "@jupyter-widgets/base",
            "_view_module_version": "1.2.0",
            "_view_name": "StyleView",
            "description_width": ""
          }
        },
        "387c5f4cb5f04d33b6f429f86cc3a9e2": {
          "model_module": "@jupyter-widgets/controls",
          "model_name": "HBoxModel",
          "state": {
            "_dom_classes": [],
            "_model_module": "@jupyter-widgets/controls",
            "_model_module_version": "1.5.0",
            "_model_name": "HBoxModel",
            "_view_count": null,
            "_view_module": "@jupyter-widgets/controls",
            "_view_module_version": "1.5.0",
            "_view_name": "HBoxView",
            "box_style": "",
            "children": [
              "IPY_MODEL_0a2e313f75184a7fac3f4e476c6c90e3",
              "IPY_MODEL_afbb3327123d419ca66eb5ec87286987"
            ],
            "layout": "IPY_MODEL_dc1b7b976b894301ad611d38636f4ca5"
          }
        },
        "0a2e313f75184a7fac3f4e476c6c90e3": {
          "model_module": "@jupyter-widgets/controls",
          "model_name": "FloatProgressModel",
          "state": {
            "_dom_classes": [],
            "_model_module": "@jupyter-widgets/controls",
            "_model_module_version": "1.5.0",
            "_model_name": "FloatProgressModel",
            "_view_count": null,
            "_view_module": "@jupyter-widgets/controls",
            "_view_module_version": "1.5.0",
            "_view_name": "ProgressView",
            "bar_style": "info",
            "description": "",
            "description_tooltip": null,
            "layout": "IPY_MODEL_29141227a4d14214a4de094bea67269f",
            "max": 1,
            "min": 0,
            "orientation": "horizontal",
            "style": "IPY_MODEL_d82757d86d8c4e6e87ef517162ae034e",
            "value": 0
          }
        },
        "afbb3327123d419ca66eb5ec87286987": {
          "model_module": "@jupyter-widgets/controls",
          "model_name": "HTMLModel",
          "state": {
            "_dom_classes": [],
            "_model_module": "@jupyter-widgets/controls",
            "_model_module_version": "1.5.0",
            "_model_name": "HTMLModel",
            "_view_count": null,
            "_view_module": "@jupyter-widgets/controls",
            "_view_module_version": "1.5.0",
            "_view_name": "HTMLView",
            "description": "",
            "description_tooltip": null,
            "layout": "IPY_MODEL_91bf024d022641de9143c00519c1d0ce",
            "placeholder": "​",
            "style": "IPY_MODEL_d6df02cef97641cf8fe10bbd4958d55f",
            "value": " 0/? [00:00&lt;?, ?it/s]"
          }
        },
        "dc1b7b976b894301ad611d38636f4ca5": {
          "model_module": "@jupyter-widgets/base",
          "model_name": "LayoutModel",
          "state": {
            "_model_module": "@jupyter-widgets/base",
            "_model_module_version": "1.2.0",
            "_model_name": "LayoutModel",
            "_view_count": null,
            "_view_module": "@jupyter-widgets/base",
            "_view_module_version": "1.2.0",
            "_view_name": "LayoutView",
            "align_content": null,
            "align_items": null,
            "align_self": null,
            "border": null,
            "bottom": null,
            "display": null,
            "flex": null,
            "flex_flow": null,
            "grid_area": null,
            "grid_auto_columns": null,
            "grid_auto_flow": null,
            "grid_auto_rows": null,
            "grid_column": null,
            "grid_gap": null,
            "grid_row": null,
            "grid_template_areas": null,
            "grid_template_columns": null,
            "grid_template_rows": null,
            "height": null,
            "justify_content": null,
            "justify_items": null,
            "left": null,
            "margin": null,
            "max_height": null,
            "max_width": null,
            "min_height": null,
            "min_width": null,
            "object_fit": null,
            "object_position": null,
            "order": null,
            "overflow": null,
            "overflow_x": null,
            "overflow_y": null,
            "padding": null,
            "right": null,
            "top": null,
            "visibility": null,
            "width": null
          }
        },
        "29141227a4d14214a4de094bea67269f": {
          "model_module": "@jupyter-widgets/base",
          "model_name": "LayoutModel",
          "state": {
            "_model_module": "@jupyter-widgets/base",
            "_model_module_version": "1.2.0",
            "_model_name": "LayoutModel",
            "_view_count": null,
            "_view_module": "@jupyter-widgets/base",
            "_view_module_version": "1.2.0",
            "_view_name": "LayoutView",
            "align_content": null,
            "align_items": null,
            "align_self": null,
            "border": null,
            "bottom": null,
            "display": null,
            "flex": null,
            "flex_flow": null,
            "grid_area": null,
            "grid_auto_columns": null,
            "grid_auto_flow": null,
            "grid_auto_rows": null,
            "grid_column": null,
            "grid_gap": null,
            "grid_row": null,
            "grid_template_areas": null,
            "grid_template_columns": null,
            "grid_template_rows": null,
            "height": null,
            "justify_content": null,
            "justify_items": null,
            "left": null,
            "margin": null,
            "max_height": null,
            "max_width": null,
            "min_height": null,
            "min_width": null,
            "object_fit": null,
            "object_position": null,
            "order": null,
            "overflow": null,
            "overflow_x": null,
            "overflow_y": null,
            "padding": null,
            "right": null,
            "top": null,
            "visibility": null,
            "width": null
          }
        },
        "d82757d86d8c4e6e87ef517162ae034e": {
          "model_module": "@jupyter-widgets/controls",
          "model_name": "ProgressStyleModel",
          "state": {
            "_model_module": "@jupyter-widgets/controls",
            "_model_module_version": "1.5.0",
            "_model_name": "ProgressStyleModel",
            "_view_count": null,
            "_view_module": "@jupyter-widgets/base",
            "_view_module_version": "1.2.0",
            "_view_name": "StyleView",
            "bar_color": null,
            "description_width": "initial"
          }
        },
        "91bf024d022641de9143c00519c1d0ce": {
          "model_module": "@jupyter-widgets/base",
          "model_name": "LayoutModel",
          "state": {
            "_model_module": "@jupyter-widgets/base",
            "_model_module_version": "1.2.0",
            "_model_name": "LayoutModel",
            "_view_count": null,
            "_view_module": "@jupyter-widgets/base",
            "_view_module_version": "1.2.0",
            "_view_name": "LayoutView",
            "align_content": null,
            "align_items": null,
            "align_self": null,
            "border": null,
            "bottom": null,
            "display": null,
            "flex": null,
            "flex_flow": null,
            "grid_area": null,
            "grid_auto_columns": null,
            "grid_auto_flow": null,
            "grid_auto_rows": null,
            "grid_column": null,
            "grid_gap": null,
            "grid_row": null,
            "grid_template_areas": null,
            "grid_template_columns": null,
            "grid_template_rows": null,
            "height": null,
            "justify_content": null,
            "justify_items": null,
            "left": null,
            "margin": null,
            "max_height": null,
            "max_width": null,
            "min_height": null,
            "min_width": null,
            "object_fit": null,
            "object_position": null,
            "order": null,
            "overflow": null,
            "overflow_x": null,
            "overflow_y": null,
            "padding": null,
            "right": null,
            "top": null,
            "visibility": null,
            "width": null
          }
        },
        "d6df02cef97641cf8fe10bbd4958d55f": {
          "model_module": "@jupyter-widgets/controls",
          "model_name": "DescriptionStyleModel",
          "state": {
            "_model_module": "@jupyter-widgets/controls",
            "_model_module_version": "1.5.0",
            "_model_name": "DescriptionStyleModel",
            "_view_count": null,
            "_view_module": "@jupyter-widgets/base",
            "_view_module_version": "1.2.0",
            "_view_name": "StyleView",
            "description_width": ""
          }
        },
        "5a3fb5174c634110b877acc280a6c9b6": {
          "model_module": "@jupyter-widgets/controls",
          "model_name": "HBoxModel",
          "state": {
            "_dom_classes": [],
            "_model_module": "@jupyter-widgets/controls",
            "_model_module_version": "1.5.0",
            "_model_name": "HBoxModel",
            "_view_count": null,
            "_view_module": "@jupyter-widgets/controls",
            "_view_module_version": "1.5.0",
            "_view_name": "HBoxView",
            "box_style": "",
            "children": [
              "IPY_MODEL_2a93f498c96f407d968984ec529f8274",
              "IPY_MODEL_ac1c3a2e63e74cdca88f814435e94e49"
            ],
            "layout": "IPY_MODEL_894505534bc8471b98109b9e656c6733"
          }
        },
        "2a93f498c96f407d968984ec529f8274": {
          "model_module": "@jupyter-widgets/controls",
          "model_name": "FloatProgressModel",
          "state": {
            "_dom_classes": [],
            "_model_module": "@jupyter-widgets/controls",
            "_model_module_version": "1.5.0",
            "_model_name": "FloatProgressModel",
            "_view_count": null,
            "_view_module": "@jupyter-widgets/controls",
            "_view_module_version": "1.5.0",
            "_view_name": "ProgressView",
            "bar_style": "success",
            "description": "",
            "description_tooltip": null,
            "layout": "IPY_MODEL_d99a273ff4df49bd859ba2a7f2b15f37",
            "max": 1,
            "min": 0,
            "orientation": "horizontal",
            "style": "IPY_MODEL_cc8cab1587b04861b74cb73dc1b228b4",
            "value": 1
          }
        },
        "ac1c3a2e63e74cdca88f814435e94e49": {
          "model_module": "@jupyter-widgets/controls",
          "model_name": "HTMLModel",
          "state": {
            "_dom_classes": [],
            "_model_module": "@jupyter-widgets/controls",
            "_model_module_version": "1.5.0",
            "_model_name": "HTMLModel",
            "_view_count": null,
            "_view_module": "@jupyter-widgets/controls",
            "_view_module_version": "1.5.0",
            "_view_name": "HTMLView",
            "description": "",
            "description_tooltip": null,
            "layout": "IPY_MODEL_84f58d5e0ac144deb22a9148045c6c95",
            "placeholder": "​",
            "style": "IPY_MODEL_153d3df21e1a4c149b1093aa33f80d23",
            "value": " 1654784/? [00:07&lt;00:00, 219240.54it/s]"
          }
        },
        "894505534bc8471b98109b9e656c6733": {
          "model_module": "@jupyter-widgets/base",
          "model_name": "LayoutModel",
          "state": {
            "_model_module": "@jupyter-widgets/base",
            "_model_module_version": "1.2.0",
            "_model_name": "LayoutModel",
            "_view_count": null,
            "_view_module": "@jupyter-widgets/base",
            "_view_module_version": "1.2.0",
            "_view_name": "LayoutView",
            "align_content": null,
            "align_items": null,
            "align_self": null,
            "border": null,
            "bottom": null,
            "display": null,
            "flex": null,
            "flex_flow": null,
            "grid_area": null,
            "grid_auto_columns": null,
            "grid_auto_flow": null,
            "grid_auto_rows": null,
            "grid_column": null,
            "grid_gap": null,
            "grid_row": null,
            "grid_template_areas": null,
            "grid_template_columns": null,
            "grid_template_rows": null,
            "height": null,
            "justify_content": null,
            "justify_items": null,
            "left": null,
            "margin": null,
            "max_height": null,
            "max_width": null,
            "min_height": null,
            "min_width": null,
            "object_fit": null,
            "object_position": null,
            "order": null,
            "overflow": null,
            "overflow_x": null,
            "overflow_y": null,
            "padding": null,
            "right": null,
            "top": null,
            "visibility": null,
            "width": null
          }
        },
        "d99a273ff4df49bd859ba2a7f2b15f37": {
          "model_module": "@jupyter-widgets/base",
          "model_name": "LayoutModel",
          "state": {
            "_model_module": "@jupyter-widgets/base",
            "_model_module_version": "1.2.0",
            "_model_name": "LayoutModel",
            "_view_count": null,
            "_view_module": "@jupyter-widgets/base",
            "_view_module_version": "1.2.0",
            "_view_name": "LayoutView",
            "align_content": null,
            "align_items": null,
            "align_self": null,
            "border": null,
            "bottom": null,
            "display": null,
            "flex": null,
            "flex_flow": null,
            "grid_area": null,
            "grid_auto_columns": null,
            "grid_auto_flow": null,
            "grid_auto_rows": null,
            "grid_column": null,
            "grid_gap": null,
            "grid_row": null,
            "grid_template_areas": null,
            "grid_template_columns": null,
            "grid_template_rows": null,
            "height": null,
            "justify_content": null,
            "justify_items": null,
            "left": null,
            "margin": null,
            "max_height": null,
            "max_width": null,
            "min_height": null,
            "min_width": null,
            "object_fit": null,
            "object_position": null,
            "order": null,
            "overflow": null,
            "overflow_x": null,
            "overflow_y": null,
            "padding": null,
            "right": null,
            "top": null,
            "visibility": null,
            "width": null
          }
        },
        "cc8cab1587b04861b74cb73dc1b228b4": {
          "model_module": "@jupyter-widgets/controls",
          "model_name": "ProgressStyleModel",
          "state": {
            "_model_module": "@jupyter-widgets/controls",
            "_model_module_version": "1.5.0",
            "_model_name": "ProgressStyleModel",
            "_view_count": null,
            "_view_module": "@jupyter-widgets/base",
            "_view_module_version": "1.2.0",
            "_view_name": "StyleView",
            "bar_color": null,
            "description_width": "initial"
          }
        },
        "84f58d5e0ac144deb22a9148045c6c95": {
          "model_module": "@jupyter-widgets/base",
          "model_name": "LayoutModel",
          "state": {
            "_model_module": "@jupyter-widgets/base",
            "_model_module_version": "1.2.0",
            "_model_name": "LayoutModel",
            "_view_count": null,
            "_view_module": "@jupyter-widgets/base",
            "_view_module_version": "1.2.0",
            "_view_name": "LayoutView",
            "align_content": null,
            "align_items": null,
            "align_self": null,
            "border": null,
            "bottom": null,
            "display": null,
            "flex": null,
            "flex_flow": null,
            "grid_area": null,
            "grid_auto_columns": null,
            "grid_auto_flow": null,
            "grid_auto_rows": null,
            "grid_column": null,
            "grid_gap": null,
            "grid_row": null,
            "grid_template_areas": null,
            "grid_template_columns": null,
            "grid_template_rows": null,
            "height": null,
            "justify_content": null,
            "justify_items": null,
            "left": null,
            "margin": null,
            "max_height": null,
            "max_width": null,
            "min_height": null,
            "min_width": null,
            "object_fit": null,
            "object_position": null,
            "order": null,
            "overflow": null,
            "overflow_x": null,
            "overflow_y": null,
            "padding": null,
            "right": null,
            "top": null,
            "visibility": null,
            "width": null
          }
        },
        "153d3df21e1a4c149b1093aa33f80d23": {
          "model_module": "@jupyter-widgets/controls",
          "model_name": "DescriptionStyleModel",
          "state": {
            "_model_module": "@jupyter-widgets/controls",
            "_model_module_version": "1.5.0",
            "_model_name": "DescriptionStyleModel",
            "_view_count": null,
            "_view_module": "@jupyter-widgets/base",
            "_view_module_version": "1.2.0",
            "_view_name": "StyleView",
            "description_width": ""
          }
        },
        "3478ee942a8d47a4b5ee78b8eb947201": {
          "model_module": "@jupyter-widgets/controls",
          "model_name": "HBoxModel",
          "state": {
            "_dom_classes": [],
            "_model_module": "@jupyter-widgets/controls",
            "_model_module_version": "1.5.0",
            "_model_name": "HBoxModel",
            "_view_count": null,
            "_view_module": "@jupyter-widgets/controls",
            "_view_module_version": "1.5.0",
            "_view_name": "HBoxView",
            "box_style": "",
            "children": [
              "IPY_MODEL_0bfafad4ec5a48218a664a2ccc6767c7",
              "IPY_MODEL_3ec3eb21ce5b4793b95f9706dd9a2e57"
            ],
            "layout": "IPY_MODEL_a599891b546541579f54f42fe3270cc1"
          }
        },
        "0bfafad4ec5a48218a664a2ccc6767c7": {
          "model_module": "@jupyter-widgets/controls",
          "model_name": "FloatProgressModel",
          "state": {
            "_dom_classes": [],
            "_model_module": "@jupyter-widgets/controls",
            "_model_module_version": "1.5.0",
            "_model_name": "FloatProgressModel",
            "_view_count": null,
            "_view_module": "@jupyter-widgets/controls",
            "_view_module_version": "1.5.0",
            "_view_name": "ProgressView",
            "bar_style": "success",
            "description": "",
            "description_tooltip": null,
            "layout": "IPY_MODEL_31ac113e17fc4a778243c5a0893779eb",
            "max": 1,
            "min": 0,
            "orientation": "horizontal",
            "style": "IPY_MODEL_78448da8f26246eca3c2bc020c806a9c",
            "value": 1
          }
        },
        "3ec3eb21ce5b4793b95f9706dd9a2e57": {
          "model_module": "@jupyter-widgets/controls",
          "model_name": "HTMLModel",
          "state": {
            "_dom_classes": [],
            "_model_module": "@jupyter-widgets/controls",
            "_model_module_version": "1.5.0",
            "_model_name": "HTMLModel",
            "_view_count": null,
            "_view_module": "@jupyter-widgets/controls",
            "_view_module_version": "1.5.0",
            "_view_name": "HTMLView",
            "description": "",
            "description_tooltip": null,
            "layout": "IPY_MODEL_2e14a982549c40e38c04aa94a3bc3544",
            "placeholder": "​",
            "style": "IPY_MODEL_24c4ba6e44df4985883e628bc5324973",
            "value": " 8192/? [00:07&lt;00:00, 1117.40it/s]"
          }
        },
        "a599891b546541579f54f42fe3270cc1": {
          "model_module": "@jupyter-widgets/base",
          "model_name": "LayoutModel",
          "state": {
            "_model_module": "@jupyter-widgets/base",
            "_model_module_version": "1.2.0",
            "_model_name": "LayoutModel",
            "_view_count": null,
            "_view_module": "@jupyter-widgets/base",
            "_view_module_version": "1.2.0",
            "_view_name": "LayoutView",
            "align_content": null,
            "align_items": null,
            "align_self": null,
            "border": null,
            "bottom": null,
            "display": null,
            "flex": null,
            "flex_flow": null,
            "grid_area": null,
            "grid_auto_columns": null,
            "grid_auto_flow": null,
            "grid_auto_rows": null,
            "grid_column": null,
            "grid_gap": null,
            "grid_row": null,
            "grid_template_areas": null,
            "grid_template_columns": null,
            "grid_template_rows": null,
            "height": null,
            "justify_content": null,
            "justify_items": null,
            "left": null,
            "margin": null,
            "max_height": null,
            "max_width": null,
            "min_height": null,
            "min_width": null,
            "object_fit": null,
            "object_position": null,
            "order": null,
            "overflow": null,
            "overflow_x": null,
            "overflow_y": null,
            "padding": null,
            "right": null,
            "top": null,
            "visibility": null,
            "width": null
          }
        },
        "31ac113e17fc4a778243c5a0893779eb": {
          "model_module": "@jupyter-widgets/base",
          "model_name": "LayoutModel",
          "state": {
            "_model_module": "@jupyter-widgets/base",
            "_model_module_version": "1.2.0",
            "_model_name": "LayoutModel",
            "_view_count": null,
            "_view_module": "@jupyter-widgets/base",
            "_view_module_version": "1.2.0",
            "_view_name": "LayoutView",
            "align_content": null,
            "align_items": null,
            "align_self": null,
            "border": null,
            "bottom": null,
            "display": null,
            "flex": null,
            "flex_flow": null,
            "grid_area": null,
            "grid_auto_columns": null,
            "grid_auto_flow": null,
            "grid_auto_rows": null,
            "grid_column": null,
            "grid_gap": null,
            "grid_row": null,
            "grid_template_areas": null,
            "grid_template_columns": null,
            "grid_template_rows": null,
            "height": null,
            "justify_content": null,
            "justify_items": null,
            "left": null,
            "margin": null,
            "max_height": null,
            "max_width": null,
            "min_height": null,
            "min_width": null,
            "object_fit": null,
            "object_position": null,
            "order": null,
            "overflow": null,
            "overflow_x": null,
            "overflow_y": null,
            "padding": null,
            "right": null,
            "top": null,
            "visibility": null,
            "width": null
          }
        },
        "78448da8f26246eca3c2bc020c806a9c": {
          "model_module": "@jupyter-widgets/controls",
          "model_name": "ProgressStyleModel",
          "state": {
            "_model_module": "@jupyter-widgets/controls",
            "_model_module_version": "1.5.0",
            "_model_name": "ProgressStyleModel",
            "_view_count": null,
            "_view_module": "@jupyter-widgets/base",
            "_view_module_version": "1.2.0",
            "_view_name": "StyleView",
            "bar_color": null,
            "description_width": "initial"
          }
        },
        "2e14a982549c40e38c04aa94a3bc3544": {
          "model_module": "@jupyter-widgets/base",
          "model_name": "LayoutModel",
          "state": {
            "_model_module": "@jupyter-widgets/base",
            "_model_module_version": "1.2.0",
            "_model_name": "LayoutModel",
            "_view_count": null,
            "_view_module": "@jupyter-widgets/base",
            "_view_module_version": "1.2.0",
            "_view_name": "LayoutView",
            "align_content": null,
            "align_items": null,
            "align_self": null,
            "border": null,
            "bottom": null,
            "display": null,
            "flex": null,
            "flex_flow": null,
            "grid_area": null,
            "grid_auto_columns": null,
            "grid_auto_flow": null,
            "grid_auto_rows": null,
            "grid_column": null,
            "grid_gap": null,
            "grid_row": null,
            "grid_template_areas": null,
            "grid_template_columns": null,
            "grid_template_rows": null,
            "height": null,
            "justify_content": null,
            "justify_items": null,
            "left": null,
            "margin": null,
            "max_height": null,
            "max_width": null,
            "min_height": null,
            "min_width": null,
            "object_fit": null,
            "object_position": null,
            "order": null,
            "overflow": null,
            "overflow_x": null,
            "overflow_y": null,
            "padding": null,
            "right": null,
            "top": null,
            "visibility": null,
            "width": null
          }
        },
        "24c4ba6e44df4985883e628bc5324973": {
          "model_module": "@jupyter-widgets/controls",
          "model_name": "DescriptionStyleModel",
          "state": {
            "_model_module": "@jupyter-widgets/controls",
            "_model_module_version": "1.5.0",
            "_model_name": "DescriptionStyleModel",
            "_view_count": null,
            "_view_module": "@jupyter-widgets/base",
            "_view_module_version": "1.2.0",
            "_view_name": "StyleView",
            "description_width": ""
          }
        }
      }
    }
  },
  "cells": [
    {
      "cell_type": "code",
      "metadata": {
        "id": "0Q9ec13I4pEC"
      },
      "source": [
        "import os\n",
        "import sys\n",
        "import matplotlib.pyplot as plt\n",
        "import numpy as np\n",
        "import torch\n",
        "import torch.nn.functional as F\n",
        "from torch import nn, optim, cuda, backends\n",
        "from torch.autograd import Variable\n",
        "from torch.utils import data\n",
        "from torchvision import datasets, transforms, utils"
      ],
      "execution_count": null,
      "outputs": []
    },
    {
      "cell_type": "code",
      "metadata": {
        "colab": {
          "base_uri": "https://localhost:8080/",
          "height": 373,
          "referenced_widgets": [
            "99c3e02f2786423cbcd01ebbb1c90903",
            "7587f6db538d43899c2eb8d2d0f6f332",
            "0cd5ec33c94c449592d449ccb22abed4",
            "f63c8e1b3c2f4615b78f10e516f9c462",
            "e6544adb35cb4ec78ee49cc739a4da4b",
            "51fd625eddfe4b4d874ceb5dff404364",
            "9664436365a341038d2e543560c8f329",
            "1f0404f0ef404e37ad4c877f0edddcb3",
            "387c5f4cb5f04d33b6f429f86cc3a9e2",
            "0a2e313f75184a7fac3f4e476c6c90e3",
            "afbb3327123d419ca66eb5ec87286987",
            "dc1b7b976b894301ad611d38636f4ca5",
            "29141227a4d14214a4de094bea67269f",
            "d82757d86d8c4e6e87ef517162ae034e",
            "91bf024d022641de9143c00519c1d0ce",
            "d6df02cef97641cf8fe10bbd4958d55f",
            "5a3fb5174c634110b877acc280a6c9b6",
            "2a93f498c96f407d968984ec529f8274",
            "ac1c3a2e63e74cdca88f814435e94e49",
            "894505534bc8471b98109b9e656c6733",
            "d99a273ff4df49bd859ba2a7f2b15f37",
            "cc8cab1587b04861b74cb73dc1b228b4",
            "84f58d5e0ac144deb22a9148045c6c95",
            "153d3df21e1a4c149b1093aa33f80d23",
            "3478ee942a8d47a4b5ee78b8eb947201",
            "0bfafad4ec5a48218a664a2ccc6767c7",
            "3ec3eb21ce5b4793b95f9706dd9a2e57",
            "a599891b546541579f54f42fe3270cc1",
            "31ac113e17fc4a778243c5a0893779eb",
            "78448da8f26246eca3c2bc020c806a9c",
            "2e14a982549c40e38c04aa94a3bc3544",
            "24c4ba6e44df4985883e628bc5324973"
          ]
        },
        "id": "WZ3UZ-cZ5s9H",
        "outputId": "b490fc26-be0b-4a99-9682-7248f0649ebd"
      },
      "source": [
        "num_colors = 256 # either 1 or 256\n",
        "class DynamicBinarization():\n",
        "    def __call__(self,x):\n",
        "        return x.bernoulli()*2-1\n",
        "def Binarize(x):\n",
        "    return   x.bernoulli()*2-1\n",
        "#transforms.RandomAffine(\n",
        "#degrees = 10, translate=None, scale=(0.95,1.05), shear=(0.95,1.05,0.95,1.05), resample=1),\n",
        "if num_colors == 1:\n",
        "    trans = transforms.Compose([transforms.ToTensor(), DynamicBinarization()])\n",
        "else:\n",
        "    trans = transforms.ToTensor()\n",
        "\n",
        "tr = data.DataLoader(datasets.MNIST('../data', train=True, download=True, transform=trans),\n",
        "                     batch_size=128, shuffle=True, num_workers=0, pin_memory=True)\n",
        "te = data.DataLoader(datasets.MNIST('../data', train=False, download=True, transform=trans),\n",
        "                     batch_size=128, shuffle=True, num_workers=0, pin_memory=True)"
      ],
      "execution_count": null,
      "outputs": [
        {
          "output_type": "stream",
          "text": [
            "Downloading http://yann.lecun.com/exdb/mnist/train-images-idx3-ubyte.gz to ../data/MNIST/raw/train-images-idx3-ubyte.gz\n"
          ],
          "name": "stdout"
        },
        {
          "output_type": "display_data",
          "data": {
            "application/vnd.jupyter.widget-view+json": {
              "model_id": "99c3e02f2786423cbcd01ebbb1c90903",
              "version_major": 2,
              "version_minor": 0
            },
            "text/plain": [
              "HBox(children=(FloatProgress(value=1.0, bar_style='info', max=1.0), HTML(value='')))"
            ]
          },
          "metadata": {
            "tags": []
          }
        },
        {
          "output_type": "stream",
          "text": [
            "Extracting ../data/MNIST/raw/train-images-idx3-ubyte.gz to ../data/MNIST/raw\n",
            "Downloading http://yann.lecun.com/exdb/mnist/train-labels-idx1-ubyte.gz to ../data/MNIST/raw/train-labels-idx1-ubyte.gz\n"
          ],
          "name": "stdout"
        },
        {
          "output_type": "display_data",
          "data": {
            "application/vnd.jupyter.widget-view+json": {
              "model_id": "387c5f4cb5f04d33b6f429f86cc3a9e2",
              "version_major": 2,
              "version_minor": 0
            },
            "text/plain": [
              "HBox(children=(FloatProgress(value=1.0, bar_style='info', max=1.0), HTML(value='')))"
            ]
          },
          "metadata": {
            "tags": []
          }
        },
        {
          "output_type": "stream",
          "text": [
            "Extracting ../data/MNIST/raw/train-labels-idx1-ubyte.gz to ../data/MNIST/raw\n",
            "Downloading http://yann.lecun.com/exdb/mnist/t10k-images-idx3-ubyte.gz to ../data/MNIST/raw/t10k-images-idx3-ubyte.gz\n"
          ],
          "name": "stdout"
        },
        {
          "output_type": "display_data",
          "data": {
            "application/vnd.jupyter.widget-view+json": {
              "model_id": "5a3fb5174c634110b877acc280a6c9b6",
              "version_major": 2,
              "version_minor": 0
            },
            "text/plain": [
              "HBox(children=(FloatProgress(value=1.0, bar_style='info', max=1.0), HTML(value='')))"
            ]
          },
          "metadata": {
            "tags": []
          }
        },
        {
          "output_type": "stream",
          "text": [
            "Extracting ../data/MNIST/raw/t10k-images-idx3-ubyte.gz to ../data/MNIST/raw\n",
            "Downloading http://yann.lecun.com/exdb/mnist/t10k-labels-idx1-ubyte.gz to ../data/MNIST/raw/t10k-labels-idx1-ubyte.gz\n"
          ],
          "name": "stdout"
        },
        {
          "output_type": "display_data",
          "data": {
            "application/vnd.jupyter.widget-view+json": {
              "model_id": "3478ee942a8d47a4b5ee78b8eb947201",
              "version_major": 2,
              "version_minor": 0
            },
            "text/plain": [
              "HBox(children=(FloatProgress(value=1.0, bar_style='info', max=1.0), HTML(value='')))"
            ]
          },
          "metadata": {
            "tags": []
          }
        },
        {
          "output_type": "stream",
          "text": [
            "Extracting ../data/MNIST/raw/t10k-labels-idx1-ubyte.gz to ../data/MNIST/raw\n",
            "Processing...\n",
            "Done!\n"
          ],
          "name": "stdout"
        },
        {
          "output_type": "stream",
          "text": [
            "/usr/local/lib/python3.6/dist-packages/torchvision/datasets/mnist.py:480: UserWarning: The given NumPy array is not writeable, and PyTorch does not support non-writeable tensors. This means you can write to the underlying (supposedly non-writeable) NumPy array using the tensor. You may want to copy the array to protect its data or make it writeable before converting it to a tensor. This type of warning will be suppressed for the rest of this program. (Triggered internally at  /pytorch/torch/csrc/utils/tensor_numpy.cpp:141.)\n",
            "  return torch.from_numpy(parsed.astype(m[2], copy=False)).view(*s)\n"
          ],
          "name": "stderr"
        }
      ]
    },
    {
      "cell_type": "code",
      "metadata": {
        "colab": {
          "base_uri": "https://localhost:8080/"
        },
        "id": "2KB6orud5xBt",
        "outputId": "2d56e04e-a9f2-4343-e4c2-751f4ddb63f1"
      },
      "source": [
        "class MaskedConv2d(nn.Conv2d):\n",
        "    \n",
        "    def __init__(self, type='B', *args, **kwargs):\n",
        "        super(MaskedConv2d, self).__init__(*args, **kwargs)\n",
        "        \n",
        "        # Mask A) without center pixel\n",
        "        # Mask B) with center pixel\n",
        "\n",
        "        # 1 1 1 1 1\n",
        "        # 1 1 1 1 1\n",
        "        # 1 1 X 0 0\n",
        "        # 0 0 0 0 0\n",
        "        # 0 0 0 0 0\n",
        "\n",
        "        self.mask = torch.ones_like(self.weight)\n",
        "        _, _, height, width = self.weight.size()\n",
        "        \n",
        "        self.mask[:, :, height // 2, width // 2 + (1 if type=='B' else 0):] = 0\n",
        "        self.mask[:, :, height // 2 + 1:] = 0\n",
        "\n",
        "        if cuda:\n",
        "            self.mask = self.mask.cuda()\n",
        "        \n",
        "    def forward(self, x):\n",
        "        self.weight.data *= self.mask\n",
        "        return super(MaskedConv2d, self).forward(x)\n",
        "            \n",
        "\n",
        "class ResNetBlock(nn.Module):\n",
        "    \n",
        "    def __init__(self, num_filters=128):\n",
        "        super(ResNetBlock, self).__init__()\n",
        "        \n",
        "        self.layers = nn.Sequential(\n",
        "            nn.ReLU(),\n",
        "            nn.Conv2d(in_channels=num_filters, out_channels=num_filters//2, kernel_size=1),\n",
        "            nn.ReLU(),\n",
        "            MaskedConv2d(in_channels=num_filters//2, out_channels=num_filters//2, kernel_size=3, padding=1, type='B'),\n",
        "            nn.ReLU(),\n",
        "            nn.Conv2d(in_channels=num_filters//2, out_channels=num_filters, kernel_size=1)\n",
        "        )\n",
        "        \n",
        "    def forward(self, x):\n",
        "        return self.layers(x) + x\n",
        "\n",
        "class PixelCNN(nn.Module):\n",
        "    def __init__(self, num_layers=12, num_filters=128,color_levels=1):\n",
        "        super(PixelCNN, self).__init__()\n",
        "        \n",
        "        layers = [MaskedConv2d(in_channels=1,\n",
        "                               out_channels=num_filters,\n",
        "                               kernel_size=7,\n",
        "                               padding=3, type='A')]\n",
        "        \n",
        "        for _ in range(num_layers):\n",
        "            layers.append(ResNetBlock(num_filters=num_filters))\n",
        "            \n",
        "        layers.extend([\n",
        "            nn.ReLU(),\n",
        "            nn.Conv2d(in_channels=num_filters, out_channels=256, kernel_size=1),\n",
        "            nn.ReLU(),\n",
        "            nn.Conv2d(in_channels=256, out_channels=color_levels, kernel_size=1)\n",
        "        ])\n",
        "        \n",
        "        self.layers = nn.Sequential(*layers)\n",
        "\n",
        "    def forward(self, x):\n",
        "        return self.layers(x)\n",
        "\n",
        "def sample_images(net,num_colors=1,num_samples=8):\n",
        "    sample = torch.Tensor(num_samples**2, 1, 28, 28).cuda()\n",
        "    sample.fill_(0)\n",
        "    with torch.no_grad():\n",
        "        for i in range(28):\n",
        "            for j in range(28):\n",
        "                if num_colors == 1:\n",
        "                    out = net(Variable(Binarize(sample)))\n",
        "                    probs = torch.sigmoid(out[:, :, i, j]).data\n",
        "                    sample[:, :, i, j] = torch.bernoulli(probs).cuda()\n",
        "                else:\n",
        "                    out = net(sample*2-1)\n",
        "                    probs = torch.softmax(out[:, :, i, j],1).data\n",
        "                    sample[:, :, i, j] = torch.multinomial(probs, 1).float()/(num_colors-1)\n",
        "    return sample"
      ],
      "execution_count": null,
      "outputs": [
        {
          "output_type": "stream",
          "text": [
            "\n",
            "\n"
          ],
          "name": "stdout"
        }
      ]
    },
    {
      "cell_type": "code",
      "metadata": {
        "id": "78O3KrPF8SZf"
      },
      "source": [
        "net = PixelCNN(num_filters=64, color_levels=num_colors)\n",
        "net.cuda()\n",
        "optimizer = optim.Adam(net.parameters(), lr=0.0001)\n",
        "if num_colors == 1:\n",
        "    criterion = nn.BCEWithLogitsLoss(reduction='mean')\n",
        "else:\n",
        "    criterion = F.cross_entropy\n",
        "\n",
        "num_epochs = 50\n",
        "num_samples = 6\n",
        "train_plot_data = []\n",
        "test_plot_data = []"
      ],
      "execution_count": null,
      "outputs": []
    },
    {
      "cell_type": "code",
      "metadata": {
        "colab": {
          "base_uri": "https://localhost:8080/"
        },
        "id": "FsjdTl2n8OEi",
        "outputId": "451eda18-8058-4173-b36d-24b069397fb9"
      },
      "source": [
        "for epoch in range(num_epochs):\n",
        "    # train\n",
        "    err_tr = []\n",
        "    net.train(True)\n",
        "    for input, _ in tr:\n",
        "        if num_colors == 1:\n",
        "            input = Variable(input.cuda())\n",
        "            target = Variable(input.data[:,0].unsqueeze(1))/2+1/2*torch.ones_like(input)\n",
        "        else:\n",
        "            target = Variable((input.data[:,0] * (num_colors-1)).long().cuda())\n",
        "            input = Variable((input*2-1).cuda())\n",
        "        loss = criterion(net(input), target)\n",
        "        err_tr.append(loss.item())\n",
        "        optimizer.zero_grad()\n",
        "        loss.backward()\n",
        "        optimizer.step()\n",
        "\n",
        "    # compute error on test set\n",
        "    err_te = []\n",
        "\n",
        "    #net.train(False)\n",
        "    with torch.no_grad():\n",
        "        for input, _ in te:\n",
        "            if num_colors == 1:\n",
        "                input = Variable(input.cuda())\n",
        "                target = Variable(input.data[:,0].unsqueeze(1))/2+1/2*torch.ones_like(input)\n",
        "            else:\n",
        "                target = Variable((input.data[:,0] * (num_colors-1)).long().cuda())\n",
        "                input = Variable((input*2-1).cuda())\n",
        "        loss = criterion(net(input), target)\n",
        "        err_te.append(loss.item())\n",
        "\n",
        "        # sample\n",
        "        sample = sample_images(net,num_colors=num_colors,num_samples=num_samples)\n",
        "        utils.save_image(sample, 'sample_{:02d}.png'.format(epoch), nrow=num_samples, padding=0)\n",
        "        train_plot_data.append(err_tr)\n",
        "        test_plot_data.append(err_te)\n",
        "    \n",
        "    \n",
        "        print('epoch=%d; Train loss=%.7f; Test loss=%.7f'\n",
        "            % (epoch+1, np.mean(err_tr), np.mean(err_te)))\n",
        "        \n",
        "        \n"
      ],
      "execution_count": null,
      "outputs": [
        {
          "output_type": "stream",
          "text": [
            "epoch=1; Train loss=1.1949605; Test loss=0.8103391\n",
            "epoch=2; Train loss=0.8229822; Test loss=0.8047646\n",
            "epoch=3; Train loss=0.8101300; Test loss=0.7022055\n",
            "epoch=4; Train loss=0.8022929; Test loss=0.7852409\n",
            "epoch=5; Train loss=0.7967630; Test loss=0.8085930\n",
            "epoch=6; Train loss=0.7921760; Test loss=0.7427025\n",
            "epoch=7; Train loss=0.7889880; Test loss=0.8521560\n",
            "epoch=8; Train loss=0.7851206; Test loss=0.7837142\n",
            "epoch=9; Train loss=0.7824928; Test loss=0.7606496\n",
            "epoch=10; Train loss=0.7792740; Test loss=0.6503462\n",
            "epoch=11; Train loss=0.7770099; Test loss=0.7598320\n",
            "epoch=12; Train loss=0.7747318; Test loss=0.8053037\n",
            "epoch=13; Train loss=0.7716703; Test loss=0.8123677\n",
            "epoch=14; Train loss=0.7723758; Test loss=0.7902336\n",
            "epoch=15; Train loss=0.7697903; Test loss=0.7517194\n",
            "epoch=16; Train loss=0.7672398; Test loss=0.6841568\n",
            "epoch=17; Train loss=0.7650246; Test loss=0.7179495\n",
            "epoch=18; Train loss=0.7648944; Test loss=0.8297210\n",
            "epoch=19; Train loss=0.7653036; Test loss=0.7298618\n",
            "epoch=20; Train loss=0.7768805; Test loss=0.7579378\n",
            "epoch=21; Train loss=0.7635442; Test loss=0.7592788\n",
            "epoch=22; Train loss=0.7676358; Test loss=0.6401316\n",
            "epoch=23; Train loss=0.7672789; Test loss=0.7285863\n",
            "epoch=24; Train loss=0.7604919; Test loss=0.7353094\n",
            "epoch=25; Train loss=0.7608523; Test loss=0.8236828\n",
            "epoch=26; Train loss=0.7571002; Test loss=0.7125093\n",
            "epoch=27; Train loss=0.7517133; Test loss=0.8429409\n",
            "epoch=28; Train loss=0.7522612; Test loss=0.8089881\n",
            "epoch=29; Train loss=0.7559319; Test loss=0.7977837\n",
            "epoch=30; Train loss=0.7496382; Test loss=0.7285622\n",
            "epoch=31; Train loss=0.7558329; Test loss=0.7686571\n",
            "epoch=32; Train loss=0.7581485; Test loss=0.7593111\n",
            "epoch=33; Train loss=0.7534503; Test loss=0.7888625\n",
            "epoch=34; Train loss=0.7561966; Test loss=0.7613364\n",
            "epoch=35; Train loss=0.7450562; Test loss=0.7594124\n",
            "epoch=36; Train loss=0.7431184; Test loss=0.7900070\n",
            "epoch=37; Train loss=0.7416529; Test loss=0.6709709\n",
            "epoch=38; Train loss=0.7376686; Test loss=0.7235228\n",
            "epoch=39; Train loss=0.7357944; Test loss=0.7670487\n",
            "epoch=40; Train loss=0.7377150; Test loss=0.7319353\n",
            "epoch=41; Train loss=0.7362473; Test loss=0.6330481\n",
            "epoch=42; Train loss=0.7314889; Test loss=0.7173419\n",
            "epoch=43; Train loss=0.7334978; Test loss=0.8167534\n",
            "epoch=44; Train loss=0.7331520; Test loss=0.6426130\n",
            "epoch=45; Train loss=0.7321527; Test loss=0.7550679\n",
            "epoch=46; Train loss=0.7260058; Test loss=0.6976745\n",
            "epoch=47; Train loss=0.7238991; Test loss=0.7184552\n",
            "epoch=48; Train loss=0.7277187; Test loss=0.7043853\n",
            "epoch=49; Train loss=0.7226165; Test loss=0.7420093\n",
            "epoch=50; Train loss=0.7420410; Test loss=0.7299429\n"
          ],
          "name": "stdout"
        }
      ]
    },
    {
      "cell_type": "code",
      "metadata": {
        "id": "VX6wsyPuNidN"
      },
      "source": [
        "train_plot_data = torch.tensor(train_plot_data)\n",
        "torch.save(train_plot_data, 'normal_train_data.pt')\n",
        "test_plot_data = torch.tensor(test_plot_data)\n",
        "torch.save(test_plot_data, 'normal_test_data.pt')\n",
        "torch.save(net.state_dict(), 'Binary_PixelCNN_e{:02d}c{:03d}.pth'.format(epoch,num_colors))"
      ],
      "execution_count": null,
      "outputs": []
    },
    {
      "cell_type": "code",
      "metadata": {
        "id": "C3JW3e2zMpUC",
        "outputId": "ddd752e4-47f0-45c3-e574-ede85b0b4ae0"
      },
      "source": [
        "# Generate 16 images\n",
        "sample = sample_images(net,num_colors=num_colors,num_samples=num_samples)\n",
        "utils.save_image(sample, 'Generated_samples/random_sample.png', nrow=num_samples, padding=0)\n",
        "plt.imshow(sample.cpu().data.numpy()[0,0,:],cmap='gray')\n",
        "plt.show()"
      ],
      "execution_count": null,
      "outputs": [
        {
          "output_type": "display_data",
          "data": {
            "image/png": "[encoded data removed]",
            "text/plain": [
              "<Figure size 432x288 with 1 Axes>"
            ]
          },
          "metadata": {
            "tags": []
          }
        }
      ]
    },
    {
      "cell_type": "code",
      "metadata": {
        "id": "p-VwaI44MpUC",
        "outputId": "74237c23-61bb-4b58-cdf2-f63007eb572d"
      },
      "source": [
        "# Load trained network with 70\n",
        "net = PixelCNN(num_filters=64)\n",
        "net.cuda()\n",
        "\n",
        "checkpoint = torch.load(\"Binary_PixelCNN_e99c001.pth\")\n",
        "net.load_state_dict(checkpoint)"
      ],
      "execution_count": null,
      "outputs": [
        {
          "output_type": "execute_result",
          "data": {
            "text/plain": [
              "<All keys matched successfully>"
            ]
          },
          "metadata": {
            "tags": []
          },
          "execution_count": 13
        }
      ]
    },
    {
      "cell_type": "code",
      "metadata": {
        "id": "CqN6IQhbMpUD",
        "outputId": "acf94ec3-ef65-40d8-ffb6-c475ffac9700"
      },
      "source": [
        "def plot_half_boys(net,te,num_pics):\n",
        "  # Test of generating images from half an image\n",
        "    with torch.no_grad():\n",
        "        for input, _ in te:\n",
        "            input = Variable(input.cuda())\n",
        "            target = Variable(input.data[:,0].unsqueeze(1))/2+1/2*torch.ones_like(input)\n",
        "            input_plot = torch.Tensor(num_pics, 1, 28, 28).cuda()\n",
        "            input_plot.fill_(0)\n",
        "            input_plot[:,:,0:14,:]=target[0:num_pics,:,0:14,:]\n",
        "            sample = torch.Tensor(num_pics, 1, 28, 28).cuda()\n",
        "            sample.fill_(0)\n",
        "            sample[:,:,0:14,:]=target[0:num_pics,:,0:14,:]\n",
        "            for i in range(14,28):\n",
        "                for j in range(28):\n",
        "                    out = net(Variable(Binarize(sample)))\n",
        "                    probs = torch.sigmoid(out[:, :, i, j]).data\n",
        "                    sample[:, :, i, j] = torch.bernoulli(probs).cuda()\n",
        "            break\n",
        "\n",
        "    plt.figure(figsize=(9,12))\n",
        "    for i in range(num_pics):\n",
        "        plt.subplot(num_pics,3,1+3*i), plt.imshow(target.cpu().data.numpy()[i,0,:],cmap='gray')\n",
        "        if i==0:\n",
        "            plt.title('Groundtruth')\n",
        "        plt.subplot(num_pics,3,2+3*i), plt.imshow(input_plot.cpu().data.numpy()[i,0,:],cmap='gray')\n",
        "        if i==0:\n",
        "            plt.title('Input to network')\n",
        "        plt.subplot(num_pics,3,3+3*i), plt.imshow(sample.cpu().data.numpy()[i,0,:],cmap='gray')\n",
        "        if i==0:\n",
        "            plt.title('Prediction')\n",
        "\n",
        "    plt.show()\n",
        "\n",
        "plot_half_boys(net,te,5)"
      ],
      "execution_count": null,
      "outputs": [
        {
          "output_type": "display_data",
          "data": {
            "image/png": "[encoded data removed]",
            "text/plain": [
              "<Figure size 648x864 with 15 Axes>"
            ]
          },
          "metadata": {
            "tags": []
          }
        }
      ]
    },
    {
      "cell_type": "code",
      "metadata": {
        "id": "9T57dmRIMpUD"
      },
      "source": [
        ""
      ],
      "execution_count": null,
      "outputs": []
    }
  ]
}